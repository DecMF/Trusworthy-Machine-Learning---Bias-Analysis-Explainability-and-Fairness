{
 "cells": [
  {
   "cell_type": "code",
   "execution_count": 3,
   "metadata": {},
   "outputs": [],
   "source": [
    "import os\n",
    "import pandas as pd\n",
    "import numpy as np\n",
    "from sklearn.naive_bayes import GaussianNB\n",
    "from sklearn.model_selection import train_test_split\n",
    "from sklearn.metrics import accuracy_score\n",
    "from sklearn.metrics import accuracy_score, balanced_accuracy_score, recall_score, precision_score, f1_score, roc_auc_score, brier_score_loss, log_loss\n",
    "from sklearn.naive_bayes import GaussianNB\n",
    "from sklearn.svm import LinearSVC\n",
    "from sklearn.neighbors import KNeighborsClassifier\n",
    "from sklearn.ensemble import RandomForestClassifier\n",
    "import optuna"
   ]
  },
  {
   "cell_type": "code",
   "execution_count": 4,
   "metadata": {},
   "outputs": [],
   "source": [
    "import warnings\n",
    "from sklearn.exceptions import DataConversionWarning"
   ]
  },
  {
   "cell_type": "code",
   "execution_count": 5,
   "metadata": {},
   "outputs": [],
   "source": [
    "os.chdir(r'C:\\Users\\decmg\\OneDrive\\Documentos\\Material Disciplinas\\MO436-IA Ética\\Atividade 2')"
   ]
  },
  {
   "cell_type": "markdown",
   "metadata": {},
   "source": [
    "## Importação Dos Dados"
   ]
  },
  {
   "cell_type": "code",
   "execution_count": 6,
   "metadata": {},
   "outputs": [],
   "source": [
    "x_train,x_val,y_train,y_val = pd.read_csv('X_train.csv'),pd.read_csv('X_val.csv'),pd.read_csv('y_train.csv'),pd.read_csv('y_val.csv')"
   ]
  },
  {
   "cell_type": "code",
   "execution_count": 7,
   "metadata": {},
   "outputs": [],
   "source": [
    "y_train.drop(['Unnamed: 0'],axis=1,inplace=True),\n",
    "y_val.drop(['Unnamed: 0'],axis=1,inplace=True)\n",
    "x_train.drop(['Unnamed: 0'],axis=1,inplace=True)\n",
    "x_val.drop(['Unnamed: 0'],axis=1,inplace=True)"
   ]
  },
  {
   "cell_type": "markdown",
   "metadata": {},
   "source": [
    "## Definindo Funções"
   ]
  },
  {
   "cell_type": "code",
   "execution_count": 8,
   "metadata": {},
   "outputs": [],
   "source": [
    "from sklearn.metrics import accuracy_score, balanced_accuracy_score, recall_score, precision_score, f1_score, log_loss, brier_score_loss, roc_auc_score\n",
    "def calculate_metrics(X_train, X_val, y_train, y_val, models, threshold=0.5):\n",
    "    results = []\n",
    "    predictions = {}\n",
    "    \n",
    "    # Lista de Models\n",
    "    for model_name, model in models.items():\n",
    "        # Fit the model\n",
    "        model.fit(X_train, y_train)\n",
    "        \n",
    "        # Predict proba sobre a validaçào\n",
    "        y_pred_proba = model.predict_proba(X_val)[:, 1] if hasattr(model, \"predict_proba\") else None\n",
    "        \n",
    "        if y_pred_proba is not None:\n",
    "            y_pred = (y_pred_proba >= threshold).astype(int)\n",
    "        else:\n",
    "            y_pred = model.predict(X_val)\n",
    "        \n",
    "        # Salvar Predicoes\n",
    "        predictions[f\"y_pred_{model_name}\"] = y_pred\n",
    "        \n",
    "        # Setar Métricas\n",
    "        metrics = {\n",
    "            \"Model\": model_name,\n",
    "            \"Accuracy\": accuracy_score(y_val, y_pred),\n",
    "            \"Balanced Accuracy\": balanced_accuracy_score(y_val, y_pred),\n",
    "            \"Recall\": recall_score(y_val, y_pred),\n",
    "            \"Precision\": precision_score(y_val, y_pred),\n",
    "            \"F1 Score\": f1_score(y_val, y_pred),\n",
    "            \"Risk Bayes (Log Loss)\": log_loss(y_val, y_pred_proba) if y_pred_proba is not None else \"N/A\",\n",
    "            \"Brier Score\": brier_score_loss(y_val, y_pred_proba) if y_pred_proba is not None else \"N/A\",\n",
    "            \"AUC\": roc_auc_score(y_val, y_pred_proba) if y_pred_proba is not None else \"N/A\"\n",
    "        }\n",
    "        \n",
    "        results.append(metrics)\n",
    "    metrics_df = pd.DataFrame(results)\n",
    "    display(metrics_df)\n",
    "    return metrics_df, predictions\n"
   ]
  },
  {
   "cell_type": "code",
   "execution_count": 9,
   "metadata": {},
   "outputs": [
    {
     "name": "stdout",
     "output_type": "stream",
     "text": [
      "Threshold: income    0.301582\n",
      "dtype: float64\n"
     ]
    },
    {
     "name": "stderr",
     "output_type": "stream",
     "text": [
      "c:\\Users\\decmg\\miniconda3\\envs\\torchgpu\\Lib\\site-packages\\numpy\\core\\fromnumeric.py:86: FutureWarning: The behavior of DataFrame.sum with axis=None is deprecated, in a future version this will reduce over both axes and return a scalar. To retain the old behavior, pass axis=0 (or do not pass axis)\n",
      "  return reduction(axis=axis, out=out, **passkwargs)\n"
     ]
    }
   ],
   "source": [
    "## Definição do Melhor Threshold a Partir dos Dados\n",
    "def bayesian_threshold(p_class1, p_class0, cost_fp, cost_fn):\n",
    "    return (p_class1 * cost_fp) / (p_class0 * cost_fn)\n",
    "\n",
    "total_samples = len(y_train)\n",
    "\n",
    "p_class1 = np.sum(y_train == 1) / total_samples  # Proporção da Classe 1\n",
    "p_class0 = np.sum(y_train == 0) / total_samples  # Proporção da Classe 0\n",
    "cost_fp = 10 # Custo de um falso positivo\n",
    "cost_fn = 100   # Custo de um falso negativo\n",
    "\n",
    "threshold = bayesian_threshold(p_class1, p_class0, cost_fp, cost_fn)\n",
    "print(f\"Threshold: {threshold}\")"
   ]
  },
  {
   "cell_type": "code",
   "execution_count": 11,
   "metadata": {},
   "outputs": [],
   "source": [
    "param_grid = {\n",
    "    \"RandomForestClassifier\": {\n",
    "        \"n_estimators\": ('int', 100, 500),  # Número de árvores\n",
    "        \"max_depth\": ('int', 10, 30),  # Profundidade máxima\n",
    "        \"min_samples_split\": ('int', 2, 10),\n",
    "        \"min_samples_leaf\": ('int', 1, 4)\n",
    "    },\n",
    "    \"SVC\": {\n",
    "        \"C\": ('float', 0.1, 100),  # Parâmetro de regularização\n",
    "        \"penalty\": ('categorical', ['l2']),  # Regularização L2 e L1\n",
    "        \"loss\": ('categorical', ['hinge', 'squared_hinge']),  # Função de perda\n",
    "        \"max_iter\": ('int', 1000, 3000)  # Número máximo de iterações\n",
    "    },\n",
    "    \"KNeighborsClassifier\": {\n",
    "        \"n_neighbors\": ('int', 3, 9),\n",
    "        \"weights\": ('categorical', ['uniform', 'distance']),\n",
    "        \"p\": ('categorical', [1, 2])  # Tipo de distância\n",
    "    },\n",
    "    \"GaussianNB\": {\n",
    "        \"var_smoothing\": ('float', 1e-9, 1e-7)  # Suavização de variância\n",
    "    }\n",
    "}\n"
   ]
  },
  {
   "cell_type": "code",
   "execution_count": 11,
   "metadata": {},
   "outputs": [],
   "source": [
    "def optimize_model_with_optuna(X_train, X_val, y_train, y_val, model_name, param_grid, n_trials=50, scoring='accuracy', threshold=None):\n",
    "    \"\"\"\n",
    "    Função para otimizar hiperparâmetros de um modelo com base em diferentes classificadores, usando Optuna e um conjunto de validação (holdout).\n",
    "    \n",
    "    Args:\n",
    "        X_train: Conjunto de treino.\n",
    "        X_val: Conjunto de validação.\n",
    "        y_train: Labels do conjunto de treino.\n",
    "        y_val: Labels do conjunto de validação.\n",
    "        model_name: Nome do modelo que será otimizado.\n",
    "        param_grid: Dicionário contendo o grid de hiperparâmetros para diferentes modelos.\n",
    "        n_trials: Número de tentativas que o Optuna fará.\n",
    "        scoring: Métrica para avaliação (default = 'accuracy').\n",
    "        threshold: Threshold opcional para ajuste das predições de probabilidade.\n",
    "    \n",
    "    Returns:\n",
    "        best_model: O melhor modelo já treinado nos dados de treino, com os hiperparâmetros otimizados.\n",
    "    \"\"\"\n",
    "    \n",
    "    # Mapeamento dos modelos possíveis\n",
    "    from sklearn.ensemble import RandomForestClassifier\n",
    "    from sklearn.neighbors import KNeighborsClassifier\n",
    "    from sklearn.naive_bayes import GaussianNB\n",
    "    from sklearn.svm import LinearSVC\n",
    "    from sklearn.base import clone\n",
    "    from sklearn.metrics import accuracy_score, balanced_accuracy_score, f1_score, roc_auc_score\n",
    "\n",
    "    model_mapping = {\n",
    "        \"RandomForestClassifier\": RandomForestClassifier(),\n",
    "        \"SVC\": LinearSVC(),  # Usar LinearSVC para o SVC linear\n",
    "        \"KNeighborsClassifier\": KNeighborsClassifier(),\n",
    "        \"GaussianNB\": GaussianNB()\n",
    "    }\n",
    "    \n",
    "    # Pegar o modelo correspondente\n",
    "    model = model_mapping.get(model_name)\n",
    "    \n",
    "    if model is None:\n",
    "        raise ValueError(f\"Modelo {model_name} não suportado.\")\n",
    "    \n",
    "    param_space = param_grid.get(model_name)\n",
    "    \n",
    "    if param_space is None:\n",
    "        raise ValueError(f\"Hiperparâmetros não definidos para {model_name}.\")\n",
    "    \n",
    "    def objective(trial):\n",
    "        # Pegar os hiperparâmetros com base na malha\n",
    "        trial_params = {}\n",
    "        for param, (param_type, *values) in param_space.items():\n",
    "            if param_type == 'int':\n",
    "                trial_params[param] = trial.suggest_int(param, values[0], values[1])\n",
    "            elif param_type == 'float':\n",
    "                trial_params[param] = trial.suggest_float(param, values[0], values[1])\n",
    "            elif param_type == 'categorical':\n",
    "                trial_params[param] = trial.suggest_categorical(param, values[0])\n",
    "        \n",
    "        model_instance = clone(model)\n",
    "        model_instance.set_params(**trial_params)\n",
    "        \n",
    "\n",
    "        model_instance.fit(X_train, y_train)\n",
    "        \n",
    "        # Avaliar na validação\n",
    "        if threshold is not None and hasattr(model_instance, \"predict_proba\"):\n",
    "            y_pred_proba = model_instance.predict_proba(X_val)[:, 1]\n",
    "            y_pred = (y_pred_proba >= threshold).astype(int)\n",
    "        else:\n",
    "            y_pred = model_instance.predict(X_val)\n",
    "        \n",
    "        # Métrica do optuna\n",
    "        if scoring == 'accuracy':\n",
    "            score = accuracy_score(y_val, y_pred)\n",
    "        elif scoring == 'balanced_accuracy':\n",
    "            score = balanced_accuracy_score(y_val, y_pred)\n",
    "        elif scoring == 'f1':\n",
    "            score = f1_score(y_val, y_pred)\n",
    "        elif scoring == 'roc_auc':\n",
    "            y_pred_proba = model_instance.predict_proba(X_val)[:, 1] if hasattr(model_instance, \"predict_proba\") else None\n",
    "            score = roc_auc_score(y_val, y_pred_proba) if y_pred_proba is not None else accuracy_score(y_val, y_pred)\n",
    "\n",
    "        return score\n",
    "\n",
    "    # Criar o estudo do Optuna e otimizar\n",
    "    study = optuna.create_study(direction='maximize')\n",
    "    study.optimize(objective, n_trials=n_trials, show_progress_bar=True) # se estiver muito lento, colocar n_jobs = -1 ( mas pode travar o pc)\n",
    "    \n",
    "    # Tunning conjunto de hiperparâmetros\n",
    "    best_params = study.best_params\n",
    "    print(f\"Melhores hiperparâmetros para {model_name}: {best_params}\")\n",
    "\n",
    "    # Treinar o modelo final com os melhores hiperparâmetros\n",
    "    best_model = clone(model)\n",
    "    best_model.set_params(**best_params)\n",
    "    best_model.fit(X_train, y_train)\n",
    "    \n",
    "    return best_model\n"
   ]
  },
  {
   "cell_type": "code",
   "execution_count": 48,
   "metadata": {},
   "outputs": [
    {
     "name": "stderr",
     "output_type": "stream",
     "text": [
      "[I 2024-10-01 13:15:27,891] A new study created in memory with name: no-name-e0a65164-2c56-4416-add6-b9ae0457148a\n"
     ]
    },
    {
     "data": {
      "application/vnd.jupyter.widget-view+json": {
       "model_id": "d5a208c165654415a71ff5ff6e0a7172",
       "version_major": 2,
       "version_minor": 0
      },
      "text/plain": [
       "  0%|          | 0/50 [00:00<?, ?it/s]"
      ]
     },
     "metadata": {},
     "output_type": "display_data"
    },
    {
     "name": "stdout",
     "output_type": "stream",
     "text": [
      "[I 2024-10-01 13:15:34,520] Trial 0 finished with value: 0.9117600433617494 and parameters: {'n_estimators': 449, 'max_depth': 22, 'min_samples_split': 3, 'min_samples_leaf': 3}. Best is trial 0 with value: 0.9117600433617494.\n",
      "[I 2024-10-01 13:15:40,761] Trial 1 finished with value: 0.9116159053073148 and parameters: {'n_estimators': 408, 'max_depth': 22, 'min_samples_split': 7, 'min_samples_leaf': 2}. Best is trial 0 with value: 0.9117600433617494.\n",
      "[I 2024-10-01 13:15:44,156] Trial 2 finished with value: 0.910891683522012 and parameters: {'n_estimators': 214, 'max_depth': 26, 'min_samples_split': 6, 'min_samples_leaf': 2}. Best is trial 0 with value: 0.9117600433617494.\n",
      "[I 2024-10-01 13:15:46,812] Trial 3 finished with value: 0.9087243808341905 and parameters: {'n_estimators': 252, 'max_depth': 11, 'min_samples_split': 7, 'min_samples_leaf': 4}. Best is trial 0 with value: 0.9117600433617494.\n",
      "[I 2024-10-01 13:15:52,654] Trial 4 finished with value: 0.9113264520274025 and parameters: {'n_estimators': 470, 'max_depth': 13, 'min_samples_split': 7, 'min_samples_leaf': 1}. Best is trial 0 with value: 0.9117600433617494.\n",
      "[I 2024-10-01 13:15:54,943] Trial 5 finished with value: 0.9119184382654882 and parameters: {'n_estimators': 148, 'max_depth': 28, 'min_samples_split': 8, 'min_samples_leaf': 4}. Best is trial 5 with value: 0.9119184382654882.\n",
      "[I 2024-10-01 13:15:58,696] Trial 6 finished with value: 0.9110383067153162 and parameters: {'n_estimators': 190, 'max_depth': 16, 'min_samples_split': 7, 'min_samples_leaf': 4}. Best is trial 5 with value: 0.9119184382654882.\n",
      "[I 2024-10-01 13:16:07,404] Trial 7 finished with value: 0.9120466191124443 and parameters: {'n_estimators': 360, 'max_depth': 20, 'min_samples_split': 2, 'min_samples_leaf': 3}. Best is trial 7 with value: 0.9120466191124443.\n",
      "[I 2024-10-01 13:16:11,297] Trial 8 finished with value: 0.911406107268011 and parameters: {'n_estimators': 158, 'max_depth': 26, 'min_samples_split': 6, 'min_samples_leaf': 3}. Best is trial 7 with value: 0.9120466191124443.\n",
      "[I 2024-10-01 13:16:23,203] Trial 9 finished with value: 0.9113142879266198 and parameters: {'n_estimators': 475, 'max_depth': 30, 'min_samples_split': 6, 'min_samples_leaf': 3}. Best is trial 7 with value: 0.9120466191124443.\n",
      "[I 2024-10-01 13:16:28,856] Trial 10 finished with value: 0.9106204109948823 and parameters: {'n_estimators': 344, 'max_depth': 18, 'min_samples_split': 2, 'min_samples_leaf': 1}. Best is trial 7 with value: 0.9120466191124443.\n",
      "[I 2024-10-01 13:16:33,724] Trial 11 finished with value: 0.9120723860786184 and parameters: {'n_estimators': 323, 'max_depth': 30, 'min_samples_split': 10, 'min_samples_leaf': 4}. Best is trial 11 with value: 0.9120723860786184.\n",
      "[I 2024-10-01 13:16:38,663] Trial 12 finished with value: 0.9114696745043587 and parameters: {'n_estimators': 344, 'max_depth': 20, 'min_samples_split': 10, 'min_samples_leaf': 4}. Best is trial 11 with value: 0.9120723860786184.\n",
      "[I 2024-10-01 13:16:43,357] Trial 13 finished with value: 0.9109504112774032 and parameters: {'n_estimators': 301, 'max_depth': 24, 'min_samples_split': 4, 'min_samples_leaf': 3}. Best is trial 11 with value: 0.9120723860786184.\n",
      "[I 2024-10-01 13:16:48,687] Trial 14 finished with value: 0.9118338127471406 and parameters: {'n_estimators': 378, 'max_depth': 17, 'min_samples_split': 10, 'min_samples_leaf': 2}. Best is trial 11 with value: 0.9120723860786184.\n",
      "[I 2024-10-01 13:16:52,284] Trial 15 finished with value: 0.9109392935508814 and parameters: {'n_estimators': 280, 'max_depth': 15, 'min_samples_split': 4, 'min_samples_leaf': 4}. Best is trial 11 with value: 0.9120723860786184.\n",
      "[I 2024-10-01 13:16:58,133] Trial 16 finished with value: 0.9120035869709663 and parameters: {'n_estimators': 406, 'max_depth': 20, 'min_samples_split': 2, 'min_samples_leaf': 3}. Best is trial 11 with value: 0.9120723860786184.\n",
      "[I 2024-10-01 13:17:02,994] Trial 17 finished with value: 0.9118641576007056 and parameters: {'n_estimators': 323, 'max_depth': 30, 'min_samples_split': 9, 'min_samples_leaf': 4}. Best is trial 11 with value: 0.9120723860786184.\n",
      "[I 2024-10-01 13:17:07,591] Trial 18 finished with value: 0.9111428133446202 and parameters: {'n_estimators': 250, 'max_depth': 23, 'min_samples_split': 4, 'min_samples_leaf': 3}. Best is trial 11 with value: 0.9120723860786184.\n",
      "[I 2024-10-01 13:17:17,205] Trial 19 finished with value: 0.9113914580283589 and parameters: {'n_estimators': 376, 'max_depth': 26, 'min_samples_split': 5, 'min_samples_leaf': 2}. Best is trial 11 with value: 0.9120723860786184.\n",
      "[I 2024-10-01 13:17:23,448] Trial 20 finished with value: 0.9116742406723584 and parameters: {'n_estimators': 276, 'max_depth': 19, 'min_samples_split': 9, 'min_samples_leaf': 4}. Best is trial 11 with value: 0.9120723860786184.\n",
      "[I 2024-10-01 13:17:30,798] Trial 21 finished with value: 0.9120967142801835 and parameters: {'n_estimators': 422, 'max_depth': 21, 'min_samples_split': 2, 'min_samples_leaf': 3}. Best is trial 21 with value: 0.9120967142801835.\n",
      "[I 2024-10-01 13:17:36,146] Trial 22 finished with value: 0.9110056075196639 and parameters: {'n_estimators': 436, 'max_depth': 14, 'min_samples_split': 3, 'min_samples_leaf': 3}. Best is trial 21 with value: 0.9120967142801835.\n",
      "[I 2024-10-01 13:17:41,149] Trial 23 finished with value: 0.9089046188006249 and parameters: {'n_estimators': 500, 'max_depth': 10, 'min_samples_split': 2, 'min_samples_leaf': 3}. Best is trial 21 with value: 0.9120967142801835.\n",
      "[I 2024-10-01 13:17:46,985] Trial 24 finished with value: 0.9112284852372288 and parameters: {'n_estimators': 372, 'max_depth': 24, 'min_samples_split': 3, 'min_samples_leaf': 2}. Best is trial 21 with value: 0.9120967142801835.\n",
      "[I 2024-10-01 13:17:48,483] Trial 25 finished with value: 0.9104927533350564 and parameters: {'n_estimators': 103, 'max_depth': 21, 'min_samples_split': 5, 'min_samples_leaf': 3}. Best is trial 21 with value: 0.9120967142801835.\n",
      "[I 2024-10-01 13:17:54,507] Trial 26 finished with value: 0.9117503643998363 and parameters: {'n_estimators': 416, 'max_depth': 28, 'min_samples_split': 3, 'min_samples_leaf': 4}. Best is trial 21 with value: 0.9120967142801835.\n",
      "[I 2024-10-01 13:17:59,127] Trial 27 finished with value: 0.9115889611700977 and parameters: {'n_estimators': 334, 'max_depth': 18, 'min_samples_split': 5, 'min_samples_leaf': 3}. Best is trial 21 with value: 0.9120967142801835.\n",
      "[I 2024-10-01 13:18:02,568] Trial 28 finished with value: 0.9095859392412321 and parameters: {'n_estimators': 303, 'max_depth': 12, 'min_samples_split': 2, 'min_samples_leaf': 2}. Best is trial 21 with value: 0.9120967142801835.\n",
      "[I 2024-10-01 13:18:07,980] Trial 29 finished with value: 0.9117145260814017 and parameters: {'n_estimators': 370, 'max_depth': 22, 'min_samples_split': 9, 'min_samples_leaf': 3}. Best is trial 21 with value: 0.9120967142801835.\n",
      "[I 2024-10-01 13:18:14,022] Trial 30 finished with value: 0.9119483907287055 and parameters: {'n_estimators': 402, 'max_depth': 24, 'min_samples_split': 4, 'min_samples_leaf': 4}. Best is trial 21 with value: 0.9120967142801835.\n",
      "[I 2024-10-01 13:18:23,012] Trial 31 finished with value: 0.9119640863426185 and parameters: {'n_estimators': 442, 'max_depth': 20, 'min_samples_split': 2, 'min_samples_leaf': 3}. Best is trial 21 with value: 0.9120967142801835.\n",
      "[I 2024-10-01 13:18:30,073] Trial 32 finished with value: 0.9116224451464453 and parameters: {'n_estimators': 407, 'max_depth': 21, 'min_samples_split': 2, 'min_samples_leaf': 3}. Best is trial 21 with value: 0.9120967142801835.\n",
      "[I 2024-10-01 13:18:36,435] Trial 33 finished with value: 0.9117058934937494 and parameters: {'n_estimators': 421, 'max_depth': 19, 'min_samples_split': 3, 'min_samples_leaf': 3}. Best is trial 21 with value: 0.9120967142801835.\n",
      "[I 2024-10-01 13:18:45,909] Trial 34 finished with value: 0.9112355482634895 and parameters: {'n_estimators': 391, 'max_depth': 22, 'min_samples_split': 2, 'min_samples_leaf': 2}. Best is trial 21 with value: 0.9120967142801835.\n",
      "[I 2024-10-01 13:18:53,468] Trial 35 finished with value: 0.9110836931988812 and parameters: {'n_estimators': 448, 'max_depth': 16, 'min_samples_split': 3, 'min_samples_leaf': 2}. Best is trial 21 with value: 0.9120967142801835.\n",
      "[I 2024-10-01 13:19:00,000] Trial 36 finished with value: 0.9045182178990688 and parameters: {'n_estimators': 360, 'max_depth': 27, 'min_samples_split': 2, 'min_samples_leaf': 1}. Best is trial 21 with value: 0.9120967142801835.\n",
      "[I 2024-10-01 13:19:06,837] Trial 37 finished with value: 0.9116454653801843 and parameters: {'n_estimators': 465, 'max_depth': 25, 'min_samples_split': 8, 'min_samples_leaf': 4}. Best is trial 21 with value: 0.9120967142801835.\n",
      "[I 2024-10-01 13:19:11,395] Trial 38 finished with value: 0.9115880455926192 and parameters: {'n_estimators': 320, 'max_depth': 20, 'min_samples_split': 8, 'min_samples_leaf': 3}. Best is trial 21 with value: 0.9120967142801835.\n",
      "[I 2024-10-01 13:19:14,683] Trial 39 finished with value: 0.911140851392881 and parameters: {'n_estimators': 247, 'max_depth': 17, 'min_samples_split': 4, 'min_samples_leaf': 4}. Best is trial 21 with value: 0.9120967142801835.\n",
      "[I 2024-10-01 13:19:20,046] Trial 40 finished with value: 0.9111426825478377 and parameters: {'n_estimators': 353, 'max_depth': 29, 'min_samples_split': 7, 'min_samples_leaf': 3}. Best is trial 21 with value: 0.9120967142801835.\n",
      "[I 2024-10-01 13:19:26,244] Trial 41 finished with value: 0.9119591160648794 and parameters: {'n_estimators': 427, 'max_depth': 20, 'min_samples_split': 2, 'min_samples_leaf': 3}. Best is trial 21 with value: 0.9120967142801835.\n",
      "[I 2024-10-01 13:19:32,876] Trial 42 finished with value: 0.9117555962711406 and parameters: {'n_estimators': 450, 'max_depth': 21, 'min_samples_split': 3, 'min_samples_leaf': 3}. Best is trial 21 with value: 0.9120967142801835.\n",
      "[I 2024-10-01 13:19:40,250] Trial 43 finished with value: 0.911594454634967 and parameters: {'n_estimators': 494, 'max_depth': 23, 'min_samples_split': 2, 'min_samples_leaf': 3}. Best is trial 21 with value: 0.9120967142801835.\n",
      "[I 2024-10-01 13:19:45,762] Trial 44 finished with value: 0.912007380077662 and parameters: {'n_estimators': 386, 'max_depth': 19, 'min_samples_split': 2, 'min_samples_leaf': 3}. Best is trial 21 with value: 0.9120967142801835.\n",
      "[I 2024-10-01 13:19:51,563] Trial 45 finished with value: 0.9114987113900977 and parameters: {'n_estimators': 400, 'max_depth': 18, 'min_samples_split': 3, 'min_samples_leaf': 2}. Best is trial 21 with value: 0.9120967142801835.\n",
      "[I 2024-10-01 13:19:56,928] Trial 46 finished with value: 0.9118568329808796 and parameters: {'n_estimators': 384, 'max_depth': 19, 'min_samples_split': 2, 'min_samples_leaf': 4}. Best is trial 21 with value: 0.9120967142801835.\n",
      "[I 2024-10-01 13:20:01,661] Trial 47 finished with value: 0.9117882954667929 and parameters: {'n_estimators': 349, 'max_depth': 17, 'min_samples_split': 6, 'min_samples_leaf': 3}. Best is trial 21 with value: 0.9120967142801835.\n",
      "[I 2024-10-01 13:20:05,772] Trial 48 finished with value: 0.911745786512445 and parameters: {'n_estimators': 315, 'max_depth': 16, 'min_samples_split': 3, 'min_samples_leaf': 3}. Best is trial 21 with value: 0.9120967142801835.\n",
      "[I 2024-10-01 13:20:09,269] Trial 49 finished with value: 0.9106222421498388 and parameters: {'n_estimators': 290, 'max_depth': 14, 'min_samples_split': 3, 'min_samples_leaf': 4}. Best is trial 21 with value: 0.9120967142801835.\n",
      "Melhores hiperparâmetros para RandomForestClassifier: {'n_estimators': 422, 'max_depth': 21, 'min_samples_split': 2, 'min_samples_leaf': 3}\n"
     ]
    }
   ],
   "source": [
    "rf_tun = optimize_model_with_optuna(x_train, x_val, y_train, y_val, \"RandomForestClassifier\", param_grid, scoring='roc_auc',n_trials=50,threshold=0.301582)"
   ]
  },
  {
   "cell_type": "code",
   "execution_count": 50,
   "metadata": {},
   "outputs": [
    {
     "name": "stderr",
     "output_type": "stream",
     "text": [
      "[I 2024-10-01 13:20:32,578] A new study created in memory with name: no-name-68a11dcb-40cf-4bd6-a827-4320eefe9ee2\n"
     ]
    },
    {
     "data": {
      "application/vnd.jupyter.widget-view+json": {
       "model_id": "4adf34105b3f4eab9f9321c8de561f5c",
       "version_major": 2,
       "version_minor": 0
      },
      "text/plain": [
       "  0%|          | 0/50 [00:00<?, ?it/s]"
      ]
     },
     "metadata": {},
     "output_type": "display_data"
    },
    {
     "name": "stderr",
     "output_type": "stream",
     "text": [
      "c:\\Users\\decmg\\miniconda3\\envs\\torchgpu\\Lib\\site-packages\\sklearn\\svm\\_base.py:1235: ConvergenceWarning: Liblinear failed to converge, increase the number of iterations.\n",
      "  warnings.warn(\n"
     ]
    },
    {
     "name": "stdout",
     "output_type": "stream",
     "text": [
      "[I 2024-10-01 13:20:34,150] Trial 0 finished with value: 0.5 and parameters: {'C': 17.67605925556739, 'penalty': 'l2', 'loss': 'hinge', 'max_iter': 1526}. Best is trial 0 with value: 0.5.\n",
      "[I 2024-10-01 13:20:34,177] Trial 1 finished with value: 0.5 and parameters: {'C': 66.87080299465467, 'penalty': 'l2', 'loss': 'squared_hinge', 'max_iter': 2100}. Best is trial 0 with value: 0.5.\n"
     ]
    },
    {
     "name": "stderr",
     "output_type": "stream",
     "text": [
      "c:\\Users\\decmg\\miniconda3\\envs\\torchgpu\\Lib\\site-packages\\sklearn\\svm\\_base.py:1235: ConvergenceWarning: Liblinear failed to converge, increase the number of iterations.\n",
      "  warnings.warn(\n"
     ]
    },
    {
     "name": "stdout",
     "output_type": "stream",
     "text": [
      "[I 2024-10-01 13:20:36,292] Trial 2 finished with value: 0.5 and parameters: {'C': 27.3650509714785, 'penalty': 'l2', 'loss': 'hinge', 'max_iter': 2083}. Best is trial 0 with value: 0.5.\n"
     ]
    },
    {
     "name": "stderr",
     "output_type": "stream",
     "text": [
      "c:\\Users\\decmg\\miniconda3\\envs\\torchgpu\\Lib\\site-packages\\sklearn\\svm\\_base.py:1235: ConvergenceWarning: Liblinear failed to converge, increase the number of iterations.\n",
      "  warnings.warn(\n"
     ]
    },
    {
     "name": "stdout",
     "output_type": "stream",
     "text": [
      "[I 2024-10-01 13:20:38,759] Trial 3 finished with value: 0.5 and parameters: {'C': 84.08556750871104, 'penalty': 'l2', 'loss': 'hinge', 'max_iter': 2400}. Best is trial 0 with value: 0.5.\n",
      "[I 2024-10-01 13:20:38,790] Trial 4 finished with value: 0.5 and parameters: {'C': 42.106506594434784, 'penalty': 'l2', 'loss': 'squared_hinge', 'max_iter': 2334}. Best is trial 0 with value: 0.5.\n"
     ]
    },
    {
     "name": "stderr",
     "output_type": "stream",
     "text": [
      "c:\\Users\\decmg\\miniconda3\\envs\\torchgpu\\Lib\\site-packages\\sklearn\\svm\\_base.py:1235: ConvergenceWarning: Liblinear failed to converge, increase the number of iterations.\n",
      "  warnings.warn(\n"
     ]
    },
    {
     "name": "stdout",
     "output_type": "stream",
     "text": [
      "[I 2024-10-01 13:20:40,346] Trial 5 finished with value: 0.5 and parameters: {'C': 59.0928460020685, 'penalty': 'l2', 'loss': 'hinge', 'max_iter': 1508}. Best is trial 0 with value: 0.5.\n",
      "[I 2024-10-01 13:20:40,378] Trial 6 finished with value: 0.5 and parameters: {'C': 83.21031313591361, 'penalty': 'l2', 'loss': 'squared_hinge', 'max_iter': 2075}. Best is trial 0 with value: 0.5.\n",
      "[I 2024-10-01 13:20:40,405] Trial 7 finished with value: 0.5 and parameters: {'C': 28.85765554229104, 'penalty': 'l2', 'loss': 'squared_hinge', 'max_iter': 1290}. Best is trial 0 with value: 0.5.\n",
      "[I 2024-10-01 13:20:40,434] Trial 8 finished with value: 0.5 and parameters: {'C': 58.17644179346787, 'penalty': 'l2', 'loss': 'squared_hinge', 'max_iter': 2430}. Best is trial 0 with value: 0.5.\n",
      "[I 2024-10-01 13:20:40,461] Trial 9 finished with value: 0.5 and parameters: {'C': 10.714689483391755, 'penalty': 'l2', 'loss': 'squared_hinge', 'max_iter': 1967}. Best is trial 0 with value: 0.5.\n"
     ]
    },
    {
     "name": "stderr",
     "output_type": "stream",
     "text": [
      "c:\\Users\\decmg\\miniconda3\\envs\\torchgpu\\Lib\\site-packages\\sklearn\\svm\\_base.py:1235: ConvergenceWarning: Liblinear failed to converge, increase the number of iterations.\n",
      "  warnings.warn(\n"
     ]
    },
    {
     "name": "stdout",
     "output_type": "stream",
     "text": [
      "[I 2024-10-01 13:20:43,320] Trial 10 finished with value: 0.5 and parameters: {'C': 3.8577501802444374, 'penalty': 'l2', 'loss': 'hinge', 'max_iter': 2898}. Best is trial 0 with value: 0.5.\n"
     ]
    },
    {
     "name": "stderr",
     "output_type": "stream",
     "text": [
      "c:\\Users\\decmg\\miniconda3\\envs\\torchgpu\\Lib\\site-packages\\sklearn\\svm\\_base.py:1235: ConvergenceWarning: Liblinear failed to converge, increase the number of iterations.\n",
      "  warnings.warn(\n"
     ]
    },
    {
     "name": "stdout",
     "output_type": "stream",
     "text": [
      "[I 2024-10-01 13:20:45,010] Trial 11 finished with value: 0.5 and parameters: {'C': 71.13523970961342, 'penalty': 'l2', 'loss': 'hinge', 'max_iter': 1634}. Best is trial 0 with value: 0.5.\n",
      "[I 2024-10-01 13:20:45,045] Trial 12 finished with value: 0.5 and parameters: {'C': 40.68786973777121, 'penalty': 'l2', 'loss': 'squared_hinge', 'max_iter': 1171}. Best is trial 0 with value: 0.5.\n"
     ]
    },
    {
     "name": "stderr",
     "output_type": "stream",
     "text": [
      "c:\\Users\\decmg\\miniconda3\\envs\\torchgpu\\Lib\\site-packages\\sklearn\\svm\\_base.py:1235: ConvergenceWarning: Liblinear failed to converge, increase the number of iterations.\n",
      "  warnings.warn(\n"
     ]
    },
    {
     "name": "stdout",
     "output_type": "stream",
     "text": [
      "[I 2024-10-01 13:20:46,840] Trial 13 finished with value: 0.5 and parameters: {'C': 93.50040081023485, 'penalty': 'l2', 'loss': 'hinge', 'max_iter': 1727}. Best is trial 0 with value: 0.5.\n"
     ]
    },
    {
     "name": "stderr",
     "output_type": "stream",
     "text": [
      "c:\\Users\\decmg\\miniconda3\\envs\\torchgpu\\Lib\\site-packages\\sklearn\\svm\\_base.py:1235: ConvergenceWarning: Liblinear failed to converge, increase the number of iterations.\n",
      "  warnings.warn(\n"
     ]
    },
    {
     "name": "stdout",
     "output_type": "stream",
     "text": [
      "[I 2024-10-01 13:20:49,814] Trial 14 finished with value: 0.5 and parameters: {'C': 16.330299618989763, 'penalty': 'l2', 'loss': 'hinge', 'max_iter': 2966}. Best is trial 0 with value: 0.5.\n",
      "[I 2024-10-01 13:20:49,852] Trial 15 finished with value: 0.5 and parameters: {'C': 67.61425167711387, 'penalty': 'l2', 'loss': 'squared_hinge', 'max_iter': 1824}. Best is trial 0 with value: 0.5.\n"
     ]
    },
    {
     "name": "stderr",
     "output_type": "stream",
     "text": [
      "c:\\Users\\decmg\\miniconda3\\envs\\torchgpu\\Lib\\site-packages\\sklearn\\svm\\_base.py:1235: ConvergenceWarning: Liblinear failed to converge, increase the number of iterations.\n",
      "  warnings.warn(\n"
     ]
    },
    {
     "name": "stdout",
     "output_type": "stream",
     "text": [
      "[I 2024-10-01 13:20:50,879] Trial 16 finished with value: 0.5 and parameters: {'C': 45.58050583418627, 'penalty': 'l2', 'loss': 'hinge', 'max_iter': 1009}. Best is trial 0 with value: 0.5.\n",
      "[I 2024-10-01 13:20:50,918] Trial 17 finished with value: 0.5 and parameters: {'C': 28.088173993230782, 'penalty': 'l2', 'loss': 'squared_hinge', 'max_iter': 1406}. Best is trial 0 with value: 0.5.\n"
     ]
    },
    {
     "name": "stderr",
     "output_type": "stream",
     "text": [
      "c:\\Users\\decmg\\miniconda3\\envs\\torchgpu\\Lib\\site-packages\\sklearn\\svm\\_base.py:1235: ConvergenceWarning: Liblinear failed to converge, increase the number of iterations.\n",
      "  warnings.warn(\n"
     ]
    },
    {
     "name": "stdout",
     "output_type": "stream",
     "text": [
      "[I 2024-10-01 13:20:53,642] Trial 18 finished with value: 0.5 and parameters: {'C': 72.10648065638856, 'penalty': 'l2', 'loss': 'hinge', 'max_iter': 2655}. Best is trial 0 with value: 0.5.\n",
      "[I 2024-10-01 13:20:53,691] Trial 19 finished with value: 0.5 and parameters: {'C': 54.26821681640631, 'penalty': 'l2', 'loss': 'squared_hinge', 'max_iter': 1893}. Best is trial 0 with value: 0.5.\n"
     ]
    },
    {
     "name": "stderr",
     "output_type": "stream",
     "text": [
      "c:\\Users\\decmg\\miniconda3\\envs\\torchgpu\\Lib\\site-packages\\sklearn\\svm\\_base.py:1235: ConvergenceWarning: Liblinear failed to converge, increase the number of iterations.\n",
      "  warnings.warn(\n"
     ]
    },
    {
     "name": "stdout",
     "output_type": "stream",
     "text": [
      "[I 2024-10-01 13:20:55,950] Trial 20 finished with value: 0.5 and parameters: {'C': 18.710099659058674, 'penalty': 'l2', 'loss': 'hinge', 'max_iter': 2267}. Best is trial 0 with value: 0.5.\n"
     ]
    },
    {
     "name": "stderr",
     "output_type": "stream",
     "text": [
      "c:\\Users\\decmg\\miniconda3\\envs\\torchgpu\\Lib\\site-packages\\sklearn\\svm\\_base.py:1235: ConvergenceWarning: Liblinear failed to converge, increase the number of iterations.\n",
      "  warnings.warn(\n"
     ]
    },
    {
     "name": "stdout",
     "output_type": "stream",
     "text": [
      "[I 2024-10-01 13:20:58,107] Trial 21 finished with value: 0.5 and parameters: {'C': 29.83480443128576, 'penalty': 'l2', 'loss': 'hinge', 'max_iter': 2136}. Best is trial 0 with value: 0.5.\n"
     ]
    },
    {
     "name": "stderr",
     "output_type": "stream",
     "text": [
      "c:\\Users\\decmg\\miniconda3\\envs\\torchgpu\\Lib\\site-packages\\sklearn\\svm\\_base.py:1235: ConvergenceWarning: Liblinear failed to converge, increase the number of iterations.\n",
      "  warnings.warn(\n"
     ]
    },
    {
     "name": "stdout",
     "output_type": "stream",
     "text": [
      "[I 2024-10-01 13:21:00,275] Trial 22 finished with value: 0.5 and parameters: {'C': 1.4075938146446028, 'penalty': 'l2', 'loss': 'hinge', 'max_iter': 2132}. Best is trial 0 with value: 0.5.\n"
     ]
    },
    {
     "name": "stderr",
     "output_type": "stream",
     "text": [
      "c:\\Users\\decmg\\miniconda3\\envs\\torchgpu\\Lib\\site-packages\\sklearn\\svm\\_base.py:1235: ConvergenceWarning: Liblinear failed to converge, increase the number of iterations.\n",
      "  warnings.warn(\n"
     ]
    },
    {
     "name": "stdout",
     "output_type": "stream",
     "text": [
      "[I 2024-10-01 13:21:01,992] Trial 23 finished with value: 0.5 and parameters: {'C': 35.22246978416733, 'penalty': 'l2', 'loss': 'hinge', 'max_iter': 1616}. Best is trial 0 with value: 0.5.\n"
     ]
    },
    {
     "name": "stderr",
     "output_type": "stream",
     "text": [
      "c:\\Users\\decmg\\miniconda3\\envs\\torchgpu\\Lib\\site-packages\\sklearn\\svm\\_base.py:1235: ConvergenceWarning: Liblinear failed to converge, increase the number of iterations.\n",
      "  warnings.warn(\n"
     ]
    },
    {
     "name": "stdout",
     "output_type": "stream",
     "text": [
      "[I 2024-10-01 13:21:04,648] Trial 24 finished with value: 0.5 and parameters: {'C': 21.69257037470206, 'penalty': 'l2', 'loss': 'hinge', 'max_iter': 2628}. Best is trial 0 with value: 0.5.\n"
     ]
    },
    {
     "name": "stderr",
     "output_type": "stream",
     "text": [
      "c:\\Users\\decmg\\miniconda3\\envs\\torchgpu\\Lib\\site-packages\\sklearn\\svm\\_base.py:1235: ConvergenceWarning: Liblinear failed to converge, increase the number of iterations.\n",
      "  warnings.warn(\n"
     ]
    },
    {
     "name": "stdout",
     "output_type": "stream",
     "text": [
      "[I 2024-10-01 13:21:06,477] Trial 25 finished with value: 0.5 and parameters: {'C': 14.576166955069429, 'penalty': 'l2', 'loss': 'hinge', 'max_iter': 1792}. Best is trial 0 with value: 0.5.\n",
      "[I 2024-10-01 13:21:06,512] Trial 26 finished with value: 0.5 and parameters: {'C': 49.11206446686566, 'penalty': 'l2', 'loss': 'squared_hinge', 'max_iter': 2222}. Best is trial 0 with value: 0.5.\n"
     ]
    },
    {
     "name": "stderr",
     "output_type": "stream",
     "text": [
      "c:\\Users\\decmg\\miniconda3\\envs\\torchgpu\\Lib\\site-packages\\sklearn\\svm\\_base.py:1235: ConvergenceWarning: Liblinear failed to converge, increase the number of iterations.\n",
      "  warnings.warn(\n"
     ]
    },
    {
     "name": "stdout",
     "output_type": "stream",
     "text": [
      "[I 2024-10-01 13:21:08,545] Trial 27 finished with value: 0.5 and parameters: {'C': 7.807910632923466, 'penalty': 'l2', 'loss': 'hinge', 'max_iter': 1955}. Best is trial 0 with value: 0.5.\n",
      "[I 2024-10-01 13:21:08,583] Trial 28 finished with value: 0.5 and parameters: {'C': 24.068944562805186, 'penalty': 'l2', 'loss': 'squared_hinge', 'max_iter': 2543}. Best is trial 0 with value: 0.5.\n"
     ]
    },
    {
     "name": "stderr",
     "output_type": "stream",
     "text": [
      "c:\\Users\\decmg\\miniconda3\\envs\\torchgpu\\Lib\\site-packages\\sklearn\\svm\\_base.py:1235: ConvergenceWarning: Liblinear failed to converge, increase the number of iterations.\n",
      "  warnings.warn(\n"
     ]
    },
    {
     "name": "stdout",
     "output_type": "stream",
     "text": [
      "[I 2024-10-01 13:21:10,165] Trial 29 finished with value: 0.5 and parameters: {'C': 64.61647950368976, 'penalty': 'l2', 'loss': 'hinge', 'max_iter': 1474}. Best is trial 0 with value: 0.5.\n"
     ]
    },
    {
     "name": "stderr",
     "output_type": "stream",
     "text": [
      "c:\\Users\\decmg\\miniconda3\\envs\\torchgpu\\Lib\\site-packages\\sklearn\\svm\\_base.py:1235: ConvergenceWarning: Liblinear failed to converge, increase the number of iterations.\n",
      "  warnings.warn(\n"
     ]
    },
    {
     "name": "stdout",
     "output_type": "stream",
     "text": [
      "[I 2024-10-01 13:21:12,710] Trial 30 finished with value: 0.5 and parameters: {'C': 84.17272242996238, 'penalty': 'l2', 'loss': 'hinge', 'max_iter': 2424}. Best is trial 0 with value: 0.5.\n"
     ]
    },
    {
     "name": "stderr",
     "output_type": "stream",
     "text": [
      "c:\\Users\\decmg\\miniconda3\\envs\\torchgpu\\Lib\\site-packages\\sklearn\\svm\\_base.py:1235: ConvergenceWarning: Liblinear failed to converge, increase the number of iterations.\n",
      "  warnings.warn(\n"
     ]
    },
    {
     "name": "stdout",
     "output_type": "stream",
     "text": [
      "[I 2024-10-01 13:21:15,254] Trial 31 finished with value: 0.5 and parameters: {'C': 79.25510408576415, 'penalty': 'l2', 'loss': 'hinge', 'max_iter': 2420}. Best is trial 0 with value: 0.5.\n"
     ]
    },
    {
     "name": "stderr",
     "output_type": "stream",
     "text": [
      "c:\\Users\\decmg\\miniconda3\\envs\\torchgpu\\Lib\\site-packages\\sklearn\\svm\\_base.py:1235: ConvergenceWarning: Liblinear failed to converge, increase the number of iterations.\n",
      "  warnings.warn(\n"
     ]
    },
    {
     "name": "stdout",
     "output_type": "stream",
     "text": [
      "[I 2024-10-01 13:21:17,730] Trial 32 finished with value: 0.5 and parameters: {'C': 98.7748050160245, 'penalty': 'l2', 'loss': 'hinge', 'max_iter': 2311}. Best is trial 0 with value: 0.5.\n"
     ]
    },
    {
     "name": "stderr",
     "output_type": "stream",
     "text": [
      "c:\\Users\\decmg\\miniconda3\\envs\\torchgpu\\Lib\\site-packages\\sklearn\\svm\\_base.py:1235: ConvergenceWarning: Liblinear failed to converge, increase the number of iterations.\n",
      "  warnings.warn(\n"
     ]
    },
    {
     "name": "stdout",
     "output_type": "stream",
     "text": [
      "[I 2024-10-01 13:21:19,787] Trial 33 finished with value: 0.5 and parameters: {'C': 88.52580756892132, 'penalty': 'l2', 'loss': 'hinge', 'max_iter': 2012}. Best is trial 0 with value: 0.5.\n",
      "[I 2024-10-01 13:21:19,826] Trial 34 finished with value: 0.5 and parameters: {'C': 37.144551070307855, 'penalty': 'l2', 'loss': 'squared_hinge', 'max_iter': 2798}. Best is trial 0 with value: 0.5.\n"
     ]
    },
    {
     "name": "stderr",
     "output_type": "stream",
     "text": [
      "c:\\Users\\decmg\\miniconda3\\envs\\torchgpu\\Lib\\site-packages\\sklearn\\svm\\_base.py:1235: ConvergenceWarning: Liblinear failed to converge, increase the number of iterations.\n",
      "  warnings.warn(\n"
     ]
    },
    {
     "name": "stdout",
     "output_type": "stream",
     "text": [
      "[I 2024-10-01 13:21:21,995] Trial 35 finished with value: 0.5 and parameters: {'C': 79.47065088446546, 'penalty': 'l2', 'loss': 'hinge', 'max_iter': 2146}. Best is trial 0 with value: 0.5.\n",
      "[I 2024-10-01 13:21:22,034] Trial 36 finished with value: 0.5 and parameters: {'C': 60.57254917618445, 'penalty': 'l2', 'loss': 'squared_hinge', 'max_iter': 2039}. Best is trial 0 with value: 0.5.\n"
     ]
    },
    {
     "name": "stderr",
     "output_type": "stream",
     "text": [
      "c:\\Users\\decmg\\miniconda3\\envs\\torchgpu\\Lib\\site-packages\\sklearn\\svm\\_base.py:1235: ConvergenceWarning: Liblinear failed to converge, increase the number of iterations.\n",
      "  warnings.warn(\n"
     ]
    },
    {
     "name": "stdout",
     "output_type": "stream",
     "text": [
      "[I 2024-10-01 13:21:24,647] Trial 37 finished with value: 0.5 and parameters: {'C': 73.99564739251977, 'penalty': 'l2', 'loss': 'hinge', 'max_iter': 2535}. Best is trial 0 with value: 0.5.\n",
      "[I 2024-10-01 13:21:24,684] Trial 38 finished with value: 0.5 and parameters: {'C': 54.36009131875519, 'penalty': 'l2', 'loss': 'squared_hinge', 'max_iter': 2219}. Best is trial 0 with value: 0.5.\n"
     ]
    },
    {
     "name": "stderr",
     "output_type": "stream",
     "text": [
      "c:\\Users\\decmg\\miniconda3\\envs\\torchgpu\\Lib\\site-packages\\sklearn\\svm\\_base.py:1235: ConvergenceWarning: Liblinear failed to converge, increase the number of iterations.\n",
      "  warnings.warn(\n"
     ]
    },
    {
     "name": "stdout",
     "output_type": "stream",
     "text": [
      "[I 2024-10-01 13:21:26,402] Trial 39 finished with value: 0.5 and parameters: {'C': 11.005165943485228, 'penalty': 'l2', 'loss': 'hinge', 'max_iter': 1629}. Best is trial 0 with value: 0.5.\n",
      "[I 2024-10-01 13:21:26,442] Trial 40 finished with value: 0.5 and parameters: {'C': 32.678429344424515, 'penalty': 'l2', 'loss': 'squared_hinge', 'max_iter': 1323}. Best is trial 0 with value: 0.5.\n",
      "[I 2024-10-01 13:21:26,478] Trial 41 finished with value: 0.5 and parameters: {'C': 38.05457126985649, 'penalty': 'l2', 'loss': 'squared_hinge', 'max_iter': 2323}. Best is trial 0 with value: 0.5.\n",
      "[I 2024-10-01 13:21:26,516] Trial 42 finished with value: 0.5 and parameters: {'C': 24.351039173893742, 'penalty': 'l2', 'loss': 'squared_hinge', 'max_iter': 2389}. Best is trial 0 with value: 0.5.\n",
      "[I 2024-10-01 13:21:26,552] Trial 43 finished with value: 0.5 and parameters: {'C': 45.265541495224795, 'penalty': 'l2', 'loss': 'squared_hinge', 'max_iter': 1882}. Best is trial 0 with value: 0.5.\n",
      "[I 2024-10-01 13:21:26,590] Trial 44 finished with value: 0.5 and parameters: {'C': 42.187958511936834, 'penalty': 'l2', 'loss': 'squared_hinge', 'max_iter': 2527}. Best is trial 0 with value: 0.5.\n",
      "[I 2024-10-01 13:21:26,629] Trial 45 finished with value: 0.5 and parameters: {'C': 59.730835230776435, 'penalty': 'l2', 'loss': 'squared_hinge', 'max_iter': 1733}. Best is trial 0 with value: 0.5.\n"
     ]
    },
    {
     "name": "stderr",
     "output_type": "stream",
     "text": [
      "c:\\Users\\decmg\\miniconda3\\envs\\torchgpu\\Lib\\site-packages\\sklearn\\svm\\_base.py:1235: ConvergenceWarning: Liblinear failed to converge, increase the number of iterations.\n",
      "  warnings.warn(\n"
     ]
    },
    {
     "name": "stdout",
     "output_type": "stream",
     "text": [
      "[I 2024-10-01 13:21:29,460] Trial 46 finished with value: 0.5 and parameters: {'C': 94.15185816917008, 'penalty': 'l2', 'loss': 'hinge', 'max_iter': 2726}. Best is trial 0 with value: 0.5.\n",
      "[I 2024-10-01 13:21:29,497] Trial 47 finished with value: 0.5 and parameters: {'C': 67.52319295207081, 'penalty': 'l2', 'loss': 'squared_hinge', 'max_iter': 2079}. Best is trial 0 with value: 0.5.\n"
     ]
    },
    {
     "name": "stderr",
     "output_type": "stream",
     "text": [
      "c:\\Users\\decmg\\miniconda3\\envs\\torchgpu\\Lib\\site-packages\\sklearn\\svm\\_base.py:1235: ConvergenceWarning: Liblinear failed to converge, increase the number of iterations.\n",
      "  warnings.warn(\n"
     ]
    },
    {
     "name": "stdout",
     "output_type": "stream",
     "text": [
      "[I 2024-10-01 13:21:30,723] Trial 48 finished with value: 0.5 and parameters: {'C': 53.51269260035825, 'penalty': 'l2', 'loss': 'hinge', 'max_iter': 1176}. Best is trial 0 with value: 0.5.\n"
     ]
    },
    {
     "name": "stderr",
     "output_type": "stream",
     "text": [
      "c:\\Users\\decmg\\miniconda3\\envs\\torchgpu\\Lib\\site-packages\\sklearn\\svm\\_base.py:1235: ConvergenceWarning: Liblinear failed to converge, increase the number of iterations.\n",
      "  warnings.warn(\n"
     ]
    },
    {
     "name": "stdout",
     "output_type": "stream",
     "text": [
      "[I 2024-10-01 13:21:32,673] Trial 49 finished with value: 0.5 and parameters: {'C': 28.582356792869113, 'penalty': 'l2', 'loss': 'hinge', 'max_iter': 1920}. Best is trial 0 with value: 0.5.\n",
      "Melhores hiperparâmetros para SVC: {'C': 17.67605925556739, 'penalty': 'l2', 'loss': 'hinge', 'max_iter': 1526}\n"
     ]
    },
    {
     "name": "stderr",
     "output_type": "stream",
     "text": [
      "c:\\Users\\decmg\\miniconda3\\envs\\torchgpu\\Lib\\site-packages\\sklearn\\svm\\_base.py:1235: ConvergenceWarning: Liblinear failed to converge, increase the number of iterations.\n",
      "  warnings.warn(\n"
     ]
    }
   ],
   "source": [
    "import warnings\n",
    "from sklearn.exceptions import DataConversionWarning\n",
    "warnings.filterwarnings(action='ignore', category=DataConversionWarning)\n",
    "svc_tun  = optimize_model_with_optuna(x_train, x_val, y_train, y_val, \"SVC\", param_grid, scoring='balanced_accuracy',n_trials=50,threshold=0.301582)"
   ]
  },
  {
   "cell_type": "code",
   "execution_count": 51,
   "metadata": {},
   "outputs": [
    {
     "name": "stderr",
     "output_type": "stream",
     "text": [
      "[I 2024-10-01 13:21:42,038] A new study created in memory with name: no-name-0935abff-8e12-48bf-97cb-a4441b0cdce6\n"
     ]
    },
    {
     "data": {
      "application/vnd.jupyter.widget-view+json": {
       "model_id": "973cdd15efa7488fa869385807bfb1a3",
       "version_major": 2,
       "version_minor": 0
      },
      "text/plain": [
       "  0%|          | 0/50 [00:00<?, ?it/s]"
      ]
     },
     "metadata": {},
     "output_type": "display_data"
    },
    {
     "name": "stdout",
     "output_type": "stream",
     "text": [
      "[I 2024-10-01 13:21:42,293] Trial 0 finished with value: 0.600312499673008 and parameters: {'n_neighbors': 5, 'weights': 'distance', 'p': 2}. Best is trial 0 with value: 0.600312499673008.\n",
      "[I 2024-10-01 13:21:42,541] Trial 1 finished with value: 0.5986745315644028 and parameters: {'n_neighbors': 6, 'weights': 'distance', 'p': 2}. Best is trial 0 with value: 0.600312499673008.\n",
      "[I 2024-10-01 13:21:42,795] Trial 2 finished with value: 0.5844141507469542 and parameters: {'n_neighbors': 4, 'weights': 'uniform', 'p': 2}. Best is trial 0 with value: 0.600312499673008.\n",
      "[I 2024-10-01 13:21:43,775] Trial 3 finished with value: 0.6093487261962935 and parameters: {'n_neighbors': 3, 'weights': 'distance', 'p': 1}. Best is trial 3 with value: 0.6093487261962935.\n",
      "[I 2024-10-01 13:21:44,033] Trial 4 finished with value: 0.5635913029556934 and parameters: {'n_neighbors': 8, 'weights': 'uniform', 'p': 2}. Best is trial 3 with value: 0.6093487261962935.\n",
      "[I 2024-10-01 13:21:45,000] Trial 5 finished with value: 0.6144840694750654 and parameters: {'n_neighbors': 5, 'weights': 'distance', 'p': 1}. Best is trial 5 with value: 0.6144840694750654.\n",
      "[I 2024-10-01 13:21:45,943] Trial 6 finished with value: 0.5811376913426134 and parameters: {'n_neighbors': 7, 'weights': 'uniform', 'p': 1}. Best is trial 5 with value: 0.6144840694750654.\n",
      "[I 2024-10-01 13:21:46,194] Trial 7 finished with value: 0.600312499673008 and parameters: {'n_neighbors': 5, 'weights': 'distance', 'p': 2}. Best is trial 5 with value: 0.6144840694750654.\n",
      "[I 2024-10-01 13:21:47,138] Trial 8 finished with value: 0.6144840694750654 and parameters: {'n_neighbors': 5, 'weights': 'distance', 'p': 1}. Best is trial 5 with value: 0.6144840694750654.\n",
      "[I 2024-10-01 13:21:47,396] Trial 9 finished with value: 0.600312499673008 and parameters: {'n_neighbors': 5, 'weights': 'distance', 'p': 2}. Best is trial 5 with value: 0.6144840694750654.\n",
      "[I 2024-10-01 13:21:48,353] Trial 10 finished with value: 0.5668051107011649 and parameters: {'n_neighbors': 9, 'weights': 'uniform', 'p': 1}. Best is trial 5 with value: 0.6144840694750654.\n",
      "[I 2024-10-01 13:21:49,335] Trial 11 finished with value: 0.6093487261962935 and parameters: {'n_neighbors': 3, 'weights': 'distance', 'p': 1}. Best is trial 5 with value: 0.6144840694750654.\n",
      "[I 2024-10-01 13:21:50,350] Trial 12 finished with value: 0.6136440925371541 and parameters: {'n_neighbors': 6, 'weights': 'distance', 'p': 1}. Best is trial 5 with value: 0.6144840694750654.\n",
      "[I 2024-10-01 13:21:51,341] Trial 13 finished with value: 0.613209193234981 and parameters: {'n_neighbors': 4, 'weights': 'distance', 'p': 1}. Best is trial 5 with value: 0.6144840694750654.\n",
      "[I 2024-10-01 13:21:52,335] Trial 14 finished with value: 0.615868422622193 and parameters: {'n_neighbors': 7, 'weights': 'distance', 'p': 1}. Best is trial 14 with value: 0.615868422622193.\n",
      "[I 2024-10-01 13:21:53,324] Trial 15 finished with value: 0.615868422622193 and parameters: {'n_neighbors': 7, 'weights': 'distance', 'p': 1}. Best is trial 14 with value: 0.615868422622193.\n",
      "[I 2024-10-01 13:21:54,330] Trial 16 finished with value: 0.615868422622193 and parameters: {'n_neighbors': 7, 'weights': 'distance', 'p': 1}. Best is trial 14 with value: 0.615868422622193.\n",
      "[I 2024-10-01 13:21:55,342] Trial 17 finished with value: 0.614765413354456 and parameters: {'n_neighbors': 8, 'weights': 'distance', 'p': 1}. Best is trial 14 with value: 0.615868422622193.\n",
      "[I 2024-10-01 13:21:56,333] Trial 18 finished with value: 0.5811376913426134 and parameters: {'n_neighbors': 7, 'weights': 'uniform', 'p': 1}. Best is trial 14 with value: 0.615868422622193.\n",
      "[I 2024-10-01 13:21:57,322] Trial 19 finished with value: 0.6134808581524589 and parameters: {'n_neighbors': 9, 'weights': 'distance', 'p': 1}. Best is trial 14 with value: 0.615868422622193.\n",
      "[I 2024-10-01 13:21:58,292] Trial 20 finished with value: 0.614765413354456 and parameters: {'n_neighbors': 8, 'weights': 'distance', 'p': 1}. Best is trial 14 with value: 0.615868422622193.\n",
      "[I 2024-10-01 13:21:59,289] Trial 21 finished with value: 0.615868422622193 and parameters: {'n_neighbors': 7, 'weights': 'distance', 'p': 1}. Best is trial 14 with value: 0.615868422622193.\n",
      "[I 2024-10-01 13:22:00,278] Trial 22 finished with value: 0.615868422622193 and parameters: {'n_neighbors': 7, 'weights': 'distance', 'p': 1}. Best is trial 14 with value: 0.615868422622193.\n",
      "[I 2024-10-01 13:22:01,338] Trial 23 finished with value: 0.6136440925371541 and parameters: {'n_neighbors': 6, 'weights': 'distance', 'p': 1}. Best is trial 14 with value: 0.615868422622193.\n",
      "[I 2024-10-01 13:22:02,331] Trial 24 finished with value: 0.614765413354456 and parameters: {'n_neighbors': 8, 'weights': 'distance', 'p': 1}. Best is trial 14 with value: 0.615868422622193.\n",
      "[I 2024-10-01 13:22:03,330] Trial 25 finished with value: 0.615868422622193 and parameters: {'n_neighbors': 7, 'weights': 'distance', 'p': 1}. Best is trial 14 with value: 0.615868422622193.\n",
      "[I 2024-10-01 13:22:04,326] Trial 26 finished with value: 0.5802014479727022 and parameters: {'n_neighbors': 6, 'weights': 'uniform', 'p': 1}. Best is trial 14 with value: 0.615868422622193.\n",
      "[I 2024-10-01 13:22:05,346] Trial 27 finished with value: 0.614765413354456 and parameters: {'n_neighbors': 8, 'weights': 'distance', 'p': 1}. Best is trial 14 with value: 0.615868422622193.\n",
      "[I 2024-10-01 13:22:06,394] Trial 28 finished with value: 0.615868422622193 and parameters: {'n_neighbors': 7, 'weights': 'distance', 'p': 1}. Best is trial 14 with value: 0.615868422622193.\n",
      "[I 2024-10-01 13:22:06,672] Trial 29 finished with value: 0.5986745315644028 and parameters: {'n_neighbors': 6, 'weights': 'distance', 'p': 2}. Best is trial 14 with value: 0.615868422622193.\n",
      "[I 2024-10-01 13:22:07,698] Trial 30 finished with value: 0.6134808581524589 and parameters: {'n_neighbors': 9, 'weights': 'distance', 'p': 1}. Best is trial 14 with value: 0.615868422622193.\n",
      "[I 2024-10-01 13:22:08,698] Trial 31 finished with value: 0.615868422622193 and parameters: {'n_neighbors': 7, 'weights': 'distance', 'p': 1}. Best is trial 14 with value: 0.615868422622193.\n",
      "[I 2024-10-01 13:22:09,683] Trial 32 finished with value: 0.615868422622193 and parameters: {'n_neighbors': 7, 'weights': 'distance', 'p': 1}. Best is trial 14 with value: 0.615868422622193.\n",
      "[I 2024-10-01 13:22:10,672] Trial 33 finished with value: 0.6136440925371541 and parameters: {'n_neighbors': 6, 'weights': 'distance', 'p': 1}. Best is trial 14 with value: 0.615868422622193.\n",
      "[I 2024-10-01 13:22:10,952] Trial 34 finished with value: 0.5990030930823151 and parameters: {'n_neighbors': 8, 'weights': 'distance', 'p': 2}. Best is trial 14 with value: 0.615868422622193.\n",
      "[I 2024-10-01 13:22:11,986] Trial 35 finished with value: 0.6136440925371541 and parameters: {'n_neighbors': 6, 'weights': 'distance', 'p': 1}. Best is trial 14 with value: 0.615868422622193.\n",
      "[I 2024-10-01 13:22:12,268] Trial 36 finished with value: 0.5710680394399386 and parameters: {'n_neighbors': 7, 'weights': 'uniform', 'p': 2}. Best is trial 14 with value: 0.615868422622193.\n",
      "[I 2024-10-01 13:22:13,284] Trial 37 finished with value: 0.614765413354456 and parameters: {'n_neighbors': 8, 'weights': 'distance', 'p': 1}. Best is trial 14 with value: 0.615868422622193.\n",
      "[I 2024-10-01 13:22:14,307] Trial 38 finished with value: 0.5811376913426134 and parameters: {'n_neighbors': 7, 'weights': 'uniform', 'p': 1}. Best is trial 14 with value: 0.615868422622193.\n",
      "[I 2024-10-01 13:22:14,579] Trial 39 finished with value: 0.5986745315644028 and parameters: {'n_neighbors': 6, 'weights': 'distance', 'p': 2}. Best is trial 14 with value: 0.615868422622193.\n",
      "[I 2024-10-01 13:22:15,615] Trial 40 finished with value: 0.614765413354456 and parameters: {'n_neighbors': 8, 'weights': 'distance', 'p': 1}. Best is trial 14 with value: 0.615868422622193.\n",
      "[I 2024-10-01 13:22:16,645] Trial 41 finished with value: 0.615868422622193 and parameters: {'n_neighbors': 7, 'weights': 'distance', 'p': 1}. Best is trial 14 with value: 0.615868422622193.\n",
      "[I 2024-10-01 13:22:17,689] Trial 42 finished with value: 0.615868422622193 and parameters: {'n_neighbors': 7, 'weights': 'distance', 'p': 1}. Best is trial 14 with value: 0.615868422622193.\n",
      "[I 2024-10-01 13:22:18,737] Trial 43 finished with value: 0.615868422622193 and parameters: {'n_neighbors': 7, 'weights': 'distance', 'p': 1}. Best is trial 14 with value: 0.615868422622193.\n",
      "[I 2024-10-01 13:22:19,775] Trial 44 finished with value: 0.615868422622193 and parameters: {'n_neighbors': 7, 'weights': 'distance', 'p': 1}. Best is trial 14 with value: 0.615868422622193.\n",
      "[I 2024-10-01 13:22:20,800] Trial 45 finished with value: 0.6136440925371541 and parameters: {'n_neighbors': 6, 'weights': 'distance', 'p': 1}. Best is trial 14 with value: 0.615868422622193.\n",
      "[I 2024-10-01 13:22:21,871] Trial 46 finished with value: 0.614765413354456 and parameters: {'n_neighbors': 8, 'weights': 'distance', 'p': 1}. Best is trial 14 with value: 0.615868422622193.\n",
      "[I 2024-10-01 13:22:22,913] Trial 47 finished with value: 0.5853401919678219 and parameters: {'n_neighbors': 5, 'weights': 'uniform', 'p': 1}. Best is trial 14 with value: 0.615868422622193.\n",
      "[I 2024-10-01 13:22:23,192] Trial 48 finished with value: 0.5996702874704007 and parameters: {'n_neighbors': 7, 'weights': 'distance', 'p': 2}. Best is trial 14 with value: 0.615868422622193.\n",
      "[I 2024-10-01 13:22:24,233] Trial 49 finished with value: 0.6136440925371541 and parameters: {'n_neighbors': 6, 'weights': 'distance', 'p': 1}. Best is trial 14 with value: 0.615868422622193.\n",
      "Melhores hiperparâmetros para KNeighborsClassifier: {'n_neighbors': 7, 'weights': 'distance', 'p': 1}\n"
     ]
    }
   ],
   "source": [
    "knn_tun = optimize_model_with_optuna(x_train, x_val, y_train, y_val,'KNeighborsClassifier', param_grid, scoring='roc_auc',n_trials=50,threshold=0.301582)"
   ]
  },
  {
   "cell_type": "code",
   "execution_count": 52,
   "metadata": {},
   "outputs": [
    {
     "name": "stderr",
     "output_type": "stream",
     "text": [
      "[I 2024-10-01 13:22:34,641] A new study created in memory with name: no-name-ba64ffab-aa68-438f-b658-6e7a130e57a2\n"
     ]
    },
    {
     "data": {
      "application/vnd.jupyter.widget-view+json": {
       "model_id": "61f56a26ece446d18185e802ec1251ba",
       "version_major": 2,
       "version_minor": 0
      },
      "text/plain": [
       "  0%|          | 0/50 [00:00<?, ?it/s]"
      ]
     },
     "metadata": {},
     "output_type": "display_data"
    },
    {
     "name": "stdout",
     "output_type": "stream",
     "text": [
      "[I 2024-10-01 13:22:34,687] Trial 0 finished with value: 0.6306110511771186 and parameters: {'var_smoothing': 1.2424153760633279e-08}. Best is trial 0 with value: 0.6306110511771186.\n",
      "[I 2024-10-01 13:22:34,721] Trial 1 finished with value: 0.6009672683667459 and parameters: {'var_smoothing': 2.1077918496734907e-08}. Best is trial 0 with value: 0.6306110511771186.\n",
      "[I 2024-10-01 13:22:34,764] Trial 2 finished with value: 0.5517400680771094 and parameters: {'var_smoothing': 8.146955973186213e-08}. Best is trial 0 with value: 0.6306110511771186.\n",
      "[I 2024-10-01 13:22:34,800] Trial 3 finished with value: 0.5580154361130963 and parameters: {'var_smoothing': 6.308544533146068e-08}. Best is trial 0 with value: 0.6306110511771186.\n",
      "[I 2024-10-01 13:22:34,830] Trial 4 finished with value: 0.5517105080042399 and parameters: {'var_smoothing': 8.15628856162727e-08}. Best is trial 0 with value: 0.6306110511771186.\n",
      "[I 2024-10-01 13:22:34,864] Trial 5 finished with value: 0.5566025692673602 and parameters: {'var_smoothing': 6.652843463357196e-08}. Best is trial 0 with value: 0.6306110511771186.\n",
      "[I 2024-10-01 13:22:34,899] Trial 6 finished with value: 0.5510369045738065 and parameters: {'var_smoothing': 8.416133489387948e-08}. Best is trial 0 with value: 0.6306110511771186.\n",
      "[I 2024-10-01 13:22:34,927] Trial 7 finished with value: 0.622119985643745 and parameters: {'var_smoothing': 1.435701694421578e-08}. Best is trial 0 with value: 0.6306110511771186.\n",
      "[I 2024-10-01 13:22:34,963] Trial 8 finished with value: 0.7873076894905309 and parameters: {'var_smoothing': 1.2282249212925358e-09}. Best is trial 8 with value: 0.7873076894905309.\n",
      "[I 2024-10-01 13:22:34,995] Trial 9 finished with value: 0.6075186176140365 and parameters: {'var_smoothing': 1.862159712286404e-08}. Best is trial 8 with value: 0.7873076894905309.\n",
      "[I 2024-10-01 13:22:35,029] Trial 10 finished with value: 0.5757261052589724 and parameters: {'var_smoothing': 3.665009622620398e-08}. Best is trial 8 with value: 0.7873076894905309.\n",
      "[I 2024-10-01 13:22:35,066] Trial 11 finished with value: 0.7701254393463928 and parameters: {'var_smoothing': 1.6395956983682695e-09}. Best is trial 8 with value: 0.7873076894905309.\n",
      "[I 2024-10-01 13:22:35,100] Trial 12 finished with value: 0.7181135755550231 and parameters: {'var_smoothing': 3.3139664193537127e-09}. Best is trial 8 with value: 0.7873076894905309.\n",
      "[I 2024-10-01 13:22:35,135] Trial 13 finished with value: 0.5781458457372283 and parameters: {'var_smoothing': 3.4533869907451633e-08}. Best is trial 8 with value: 0.7873076894905309.\n",
      "[I 2024-10-01 13:22:35,169] Trial 14 finished with value: 0.7083979905428694 and parameters: {'var_smoothing': 3.770121194951057e-09}. Best is trial 8 with value: 0.7873076894905309.\n",
      "[I 2024-10-01 13:22:35,202] Trial 15 finished with value: 0.5475388754197268 and parameters: {'var_smoothing': 9.977556672962288e-08}. Best is trial 8 with value: 0.7873076894905309.\n",
      "[I 2024-10-01 13:22:35,237] Trial 16 finished with value: 0.5789662031577483 and parameters: {'var_smoothing': 3.38212494778982e-08}. Best is trial 8 with value: 0.7873076894905309.\n",
      "[I 2024-10-01 13:22:35,274] Trial 17 finished with value: 0.5670244569055992 and parameters: {'var_smoothing': 4.6769998063107595e-08}. Best is trial 8 with value: 0.7873076894905309.\n",
      "[I 2024-10-01 13:22:35,310] Trial 18 finished with value: 0.5919543236707647 and parameters: {'var_smoothing': 2.526111299751754e-08}. Best is trial 8 with value: 0.7873076894905309.\n",
      "[I 2024-10-01 13:22:35,345] Trial 19 finished with value: 0.773583183091429 and parameters: {'var_smoothing': 1.5515763898611037e-09}. Best is trial 8 with value: 0.7873076894905309.\n",
      "[I 2024-10-01 13:22:35,383] Trial 20 finished with value: 0.5651841461742988 and parameters: {'var_smoothing': 4.94878115118638e-08}. Best is trial 8 with value: 0.7873076894905309.\n",
      "[I 2024-10-01 13:22:35,417] Trial 21 finished with value: 0.7689770435950908 and parameters: {'var_smoothing': 1.6694712009390134e-09}. Best is trial 8 with value: 0.7873076894905309.\n",
      "[I 2024-10-01 13:22:35,450] Trial 22 finished with value: 0.6414441638998788 and parameters: {'var_smoothing': 1.0402940670641813e-08}. Best is trial 8 with value: 0.7873076894905309.\n",
      "[I 2024-10-01 13:22:35,492] Trial 23 finished with value: 0.5885897072349455 and parameters: {'var_smoothing': 2.7098166208338535e-08}. Best is trial 8 with value: 0.7873076894905309.\n",
      "[I 2024-10-01 13:22:35,530] Trial 24 finished with value: 0.6514132330767275 and parameters: {'var_smoothing': 8.895215239248073e-09}. Best is trial 8 with value: 0.7873076894905309.\n",
      "[I 2024-10-01 13:22:35,567] Trial 25 finished with value: 0.7935265533164308 and parameters: {'var_smoothing': 1.0923900387605782e-09}. Best is trial 25 with value: 0.7935265533164308.\n",
      "[I 2024-10-01 13:22:35,605] Trial 26 finished with value: 0.6139907040110665 and parameters: {'var_smoothing': 1.656191767827875e-08}. Best is trial 25 with value: 0.7935265533164308.\n",
      "[I 2024-10-01 13:22:35,641] Trial 27 finished with value: 0.5887940118093798 and parameters: {'var_smoothing': 2.698408852153892e-08}. Best is trial 25 with value: 0.7935265533164308.\n",
      "[I 2024-10-01 13:22:35,677] Trial 28 finished with value: 0.6534254107803754 and parameters: {'var_smoothing': 8.618555495564474e-09}. Best is trial 25 with value: 0.7935265533164308.\n",
      "[I 2024-10-01 13:22:35,714] Trial 29 finished with value: 0.5712988957612425 and parameters: {'var_smoothing': 4.128808505858592e-08}. Best is trial 25 with value: 0.7935265533164308.\n",
      "[I 2024-10-01 13:22:35,749] Trial 30 finished with value: 0.6441707536301338 and parameters: {'var_smoothing': 9.966695325257771e-09}. Best is trial 25 with value: 0.7935265533164308.\n",
      "[I 2024-10-01 13:22:35,785] Trial 31 finished with value: 0.7564168901547692 and parameters: {'var_smoothing': 2.0132595572155105e-09}. Best is trial 25 with value: 0.7935265533164308.\n",
      "[I 2024-10-01 13:22:35,829] Trial 32 finished with value: 0.5993705012446622 and parameters: {'var_smoothing': 2.1743512381470466e-08}. Best is trial 25 with value: 0.7935265533164308.\n",
      "[I 2024-10-01 13:22:35,869] Trial 33 finished with value: 0.6213333737931381 and parameters: {'var_smoothing': 1.4551714792506955e-08}. Best is trial 25 with value: 0.7935265533164308.\n",
      "[I 2024-10-01 13:22:35,905] Trial 34 finished with value: 0.6777033863810203 and parameters: {'var_smoothing': 5.917157000293237e-09}. Best is trial 25 with value: 0.7935265533164308.\n",
      "[I 2024-10-01 13:22:35,941] Trial 35 finished with value: 0.7799014524721115 and parameters: {'var_smoothing': 1.3978287711793007e-09}. Best is trial 25 with value: 0.7935265533164308.\n",
      "[I 2024-10-01 13:22:35,977] Trial 36 finished with value: 0.6300002302023374 and parameters: {'var_smoothing': 1.2553417204185306e-08}. Best is trial 25 with value: 0.7935265533164308.\n",
      "[I 2024-10-01 13:22:36,014] Trial 37 finished with value: 0.5609905397303075 and parameters: {'var_smoothing': 5.6757281528821526e-08}. Best is trial 25 with value: 0.7935265533164308.\n",
      "[I 2024-10-01 13:22:36,051] Trial 38 finished with value: 0.5972139238930145 and parameters: {'var_smoothing': 2.2677805097274177e-08}. Best is trial 25 with value: 0.7935265533164308.\n",
      "[I 2024-10-01 13:22:36,086] Trial 39 finished with value: 0.6062689851529957 and parameters: {'var_smoothing': 1.906171575472835e-08}. Best is trial 25 with value: 0.7935265533164308.\n",
      "[I 2024-10-01 13:22:36,124] Trial 40 finished with value: 0.5566431162699688 and parameters: {'var_smoothing': 6.642922616834742e-08}. Best is trial 25 with value: 0.7935265533164308.\n",
      "[I 2024-10-01 13:22:36,164] Trial 41 finished with value: 0.6624993067770522 and parameters: {'var_smoothing': 7.499461367344918e-09}. Best is trial 25 with value: 0.7935265533164308.\n",
      "[I 2024-10-01 13:22:36,200] Trial 42 finished with value: 0.7190534812348472 and parameters: {'var_smoothing': 3.2745746813647156e-09}. Best is trial 25 with value: 0.7935265533164308.\n",
      "[I 2024-10-01 13:22:36,237] Trial 43 finished with value: 0.624657966413479 and parameters: {'var_smoothing': 1.3735241303547918e-08}. Best is trial 25 with value: 0.7935265533164308.\n",
      "[I 2024-10-01 13:22:36,273] Trial 44 finished with value: 0.7833673056176694 and parameters: {'var_smoothing': 1.3170027628372028e-09}. Best is trial 25 with value: 0.7935265533164308.\n",
      "[I 2024-10-01 13:22:36,308] Trial 45 finished with value: 0.7973492200849447 and parameters: {'var_smoothing': 1.01330299100261e-09}. Best is trial 45 with value: 0.7973492200849447.\n",
      "[I 2024-10-01 13:22:36,344] Trial 46 finished with value: 0.6652269428815683 and parameters: {'var_smoothing': 7.185578305000994e-09}. Best is trial 45 with value: 0.7973492200849447.\n",
      "[I 2024-10-01 13:22:36,382] Trial 47 finished with value: 0.5540794993308437 and parameters: {'var_smoothing': 7.369302894955916e-08}. Best is trial 45 with value: 0.7973492200849447.\n",
      "[I 2024-10-01 13:22:36,417] Trial 48 finished with value: 0.6144155319609786 and parameters: {'var_smoothing': 1.643896084260484e-08}. Best is trial 45 with value: 0.7973492200849447.\n",
      "[I 2024-10-01 13:22:36,456] Trial 49 finished with value: 0.673838864642072 and parameters: {'var_smoothing': 6.283225051489831e-09}. Best is trial 45 with value: 0.7973492200849447.\n",
      "Melhores hiperparâmetros para GaussianNB: {'var_smoothing': 1.01330299100261e-09}\n"
     ]
    }
   ],
   "source": [
    "nb_tun = optimize_model_with_optuna(x_train, x_val, y_train, y_val,'GaussianNB', param_grid, scoring='roc_auc',n_trials=50,threshold=0.301582)"
   ]
  },
  {
   "cell_type": "code",
   "execution_count": 62,
   "metadata": {},
   "outputs": [],
   "source": [
    "# # Salvar os Modelos\n",
    "# import joblib\n",
    "\n",
    "# for name, model in models.items():\n",
    "#     joblib.dump(model, f'{name}_model.pkl')"
   ]
  },
  {
   "cell_type": "code",
   "execution_count": 1,
   "metadata": {},
   "outputs": [],
   "source": [
    "# Importar os modelos já treinados\n",
    "import joblib\n",
    "loaded_models = {}\n",
    "for name in ['rf','nb','knn','SVC']:\n",
    "    loaded_models[name] = joblib.load(f'models//{name}_model.pkl')\n"
   ]
  },
  {
   "cell_type": "code",
   "execution_count": 2,
   "metadata": {},
   "outputs": [
    {
     "data": {
      "text/plain": [
       "{'rf': RandomForestClassifier(max_depth=21, min_samples_leaf=3, n_estimators=422),\n",
       " 'nb': GaussianNB(var_smoothing=1.01330299100261e-09),\n",
       " 'knn': KNeighborsClassifier(n_neighbors=7, p=1, weights='distance'),\n",
       " 'SVC': LinearSVC(C=17.67605925556739, loss='hinge', max_iter=1526)}"
      ]
     },
     "execution_count": 2,
     "metadata": {},
     "output_type": "execute_result"
    }
   ],
   "source": [
    "loaded_models"
   ]
  },
  {
   "cell_type": "code",
   "execution_count": 10,
   "metadata": {},
   "outputs": [
    {
     "name": "stderr",
     "output_type": "stream",
     "text": [
      "c:\\Users\\decmg\\miniconda3\\envs\\torchgpu\\Lib\\site-packages\\sklearn\\base.py:1473: DataConversionWarning: A column-vector y was passed when a 1d array was expected. Please change the shape of y to (n_samples,), for example using ravel().\n",
      "  return fit_method(estimator, *args, **kwargs)\n",
      "c:\\Users\\decmg\\miniconda3\\envs\\torchgpu\\Lib\\site-packages\\sklearn\\utils\\validation.py:1339: DataConversionWarning: A column-vector y was passed when a 1d array was expected. Please change the shape of y to (n_samples, ), for example using ravel().\n",
      "  y = column_or_1d(y, warn=True)\n",
      "c:\\Users\\decmg\\miniconda3\\envs\\torchgpu\\Lib\\site-packages\\sklearn\\neighbors\\_classification.py:238: DataConversionWarning: A column-vector y was passed when a 1d array was expected. Please change the shape of y to (n_samples,), for example using ravel().\n",
      "  return self._fit(X, y)\n",
      "c:\\Users\\decmg\\miniconda3\\envs\\torchgpu\\Lib\\site-packages\\sklearn\\utils\\validation.py:1339: DataConversionWarning: A column-vector y was passed when a 1d array was expected. Please change the shape of y to (n_samples, ), for example using ravel().\n",
      "  y = column_or_1d(y, warn=True)\n",
      "c:\\Users\\decmg\\miniconda3\\envs\\torchgpu\\Lib\\site-packages\\sklearn\\svm\\_base.py:1235: ConvergenceWarning: Liblinear failed to converge, increase the number of iterations.\n",
      "  warnings.warn(\n"
     ]
    },
    {
     "data": {
      "text/html": [
       "<div>\n",
       "<style scoped>\n",
       "    .dataframe tbody tr th:only-of-type {\n",
       "        vertical-align: middle;\n",
       "    }\n",
       "\n",
       "    .dataframe tbody tr th {\n",
       "        vertical-align: top;\n",
       "    }\n",
       "\n",
       "    .dataframe thead th {\n",
       "        text-align: right;\n",
       "    }\n",
       "</style>\n",
       "<table border=\"1\" class=\"dataframe\">\n",
       "  <thead>\n",
       "    <tr style=\"text-align: right;\">\n",
       "      <th></th>\n",
       "      <th>Model</th>\n",
       "      <th>Accuracy</th>\n",
       "      <th>Balanced Accuracy</th>\n",
       "      <th>Recall</th>\n",
       "      <th>Precision</th>\n",
       "      <th>F1 Score</th>\n",
       "      <th>Risk Bayes (Log Loss)</th>\n",
       "      <th>Brier Score</th>\n",
       "      <th>AUC</th>\n",
       "    </tr>\n",
       "  </thead>\n",
       "  <tbody>\n",
       "    <tr>\n",
       "      <th>0</th>\n",
       "      <td>rf</td>\n",
       "      <td>0.834475</td>\n",
       "      <td>0.679621</td>\n",
       "      <td>0.987357</td>\n",
       "      <td>0.826280</td>\n",
       "      <td>0.899665</td>\n",
       "      <td>0.315292</td>\n",
       "      <td>0.100218</td>\n",
       "      <td>0.911612</td>\n",
       "    </tr>\n",
       "    <tr>\n",
       "      <th>1</th>\n",
       "      <td>nb</td>\n",
       "      <td>0.751602</td>\n",
       "      <td>0.500000</td>\n",
       "      <td>1.000000</td>\n",
       "      <td>0.751602</td>\n",
       "      <td>0.858188</td>\n",
       "      <td>0.548974</td>\n",
       "      <td>0.182323</td>\n",
       "      <td>0.797349</td>\n",
       "    </tr>\n",
       "    <tr>\n",
       "      <th>2</th>\n",
       "      <td>knn</td>\n",
       "      <td>0.750718</td>\n",
       "      <td>0.539618</td>\n",
       "      <td>0.959130</td>\n",
       "      <td>0.767349</td>\n",
       "      <td>0.852588</td>\n",
       "      <td>1.548157</td>\n",
       "      <td>0.201998</td>\n",
       "      <td>0.615868</td>\n",
       "    </tr>\n",
       "    <tr>\n",
       "      <th>3</th>\n",
       "      <td>SVC</td>\n",
       "      <td>0.751602</td>\n",
       "      <td>0.500000</td>\n",
       "      <td>1.000000</td>\n",
       "      <td>0.751602</td>\n",
       "      <td>0.858188</td>\n",
       "      <td>N/A</td>\n",
       "      <td>N/A</td>\n",
       "      <td>N/A</td>\n",
       "    </tr>\n",
       "  </tbody>\n",
       "</table>\n",
       "</div>"
      ],
      "text/plain": [
       "  Model  Accuracy  Balanced Accuracy    Recall  Precision  F1 Score  \\\n",
       "0    rf  0.834475           0.679621  0.987357   0.826280  0.899665   \n",
       "1    nb  0.751602           0.500000  1.000000   0.751602  0.858188   \n",
       "2   knn  0.750718           0.539618  0.959130   0.767349  0.852588   \n",
       "3   SVC  0.751602           0.500000  1.000000   0.751602  0.858188   \n",
       "\n",
       "  Risk Bayes (Log Loss) Brier Score       AUC  \n",
       "0              0.315292    0.100218  0.911612  \n",
       "1              0.548974    0.182323  0.797349  \n",
       "2              1.548157    0.201998  0.615868  \n",
       "3                   N/A         N/A       N/A  "
      ]
     },
     "metadata": {},
     "output_type": "display_data"
    }
   ],
   "source": [
    "metrics_results,predictions = calculate_metrics(X_train=x_train,X_val=x_val,y_train=y_train,y_val=y_val,models=loaded_models,threshold=0.301582)"
   ]
  },
  {
   "cell_type": "code",
   "execution_count": 11,
   "metadata": {},
   "outputs": [
    {
     "data": {
      "text/html": [
       "<div>\n",
       "<style scoped>\n",
       "    .dataframe tbody tr th:only-of-type {\n",
       "        vertical-align: middle;\n",
       "    }\n",
       "\n",
       "    .dataframe tbody tr th {\n",
       "        vertical-align: top;\n",
       "    }\n",
       "\n",
       "    .dataframe thead th {\n",
       "        text-align: right;\n",
       "    }\n",
       "</style>\n",
       "<table border=\"1\" class=\"dataframe\">\n",
       "  <thead>\n",
       "    <tr style=\"text-align: right;\">\n",
       "      <th></th>\n",
       "      <th>Model</th>\n",
       "      <th>Accuracy</th>\n",
       "      <th>Balanced Accuracy</th>\n",
       "      <th>Recall</th>\n",
       "      <th>Precision</th>\n",
       "      <th>F1 Score</th>\n",
       "      <th>Risk Bayes (Log Loss)</th>\n",
       "      <th>Brier Score</th>\n",
       "      <th>AUC</th>\n",
       "    </tr>\n",
       "  </thead>\n",
       "  <tbody>\n",
       "    <tr>\n",
       "      <th>0</th>\n",
       "      <td>rf</td>\n",
       "      <td>0.834475</td>\n",
       "      <td>0.679621</td>\n",
       "      <td>0.987357</td>\n",
       "      <td>0.826280</td>\n",
       "      <td>0.899665</td>\n",
       "      <td>0.315292</td>\n",
       "      <td>0.100218</td>\n",
       "      <td>0.911612</td>\n",
       "    </tr>\n",
       "    <tr>\n",
       "      <th>1</th>\n",
       "      <td>nb</td>\n",
       "      <td>0.751602</td>\n",
       "      <td>0.500000</td>\n",
       "      <td>1.000000</td>\n",
       "      <td>0.751602</td>\n",
       "      <td>0.858188</td>\n",
       "      <td>0.548974</td>\n",
       "      <td>0.182323</td>\n",
       "      <td>0.797349</td>\n",
       "    </tr>\n",
       "    <tr>\n",
       "      <th>2</th>\n",
       "      <td>knn</td>\n",
       "      <td>0.750718</td>\n",
       "      <td>0.539618</td>\n",
       "      <td>0.959130</td>\n",
       "      <td>0.767349</td>\n",
       "      <td>0.852588</td>\n",
       "      <td>1.548157</td>\n",
       "      <td>0.201998</td>\n",
       "      <td>0.615868</td>\n",
       "    </tr>\n",
       "    <tr>\n",
       "      <th>3</th>\n",
       "      <td>SVC</td>\n",
       "      <td>0.751602</td>\n",
       "      <td>0.500000</td>\n",
       "      <td>1.000000</td>\n",
       "      <td>0.751602</td>\n",
       "      <td>0.858188</td>\n",
       "      <td>N/A</td>\n",
       "      <td>N/A</td>\n",
       "      <td>N/A</td>\n",
       "    </tr>\n",
       "  </tbody>\n",
       "</table>\n",
       "</div>"
      ],
      "text/plain": [
       "  Model  Accuracy  Balanced Accuracy    Recall  Precision  F1 Score  \\\n",
       "0    rf  0.834475           0.679621  0.987357   0.826280  0.899665   \n",
       "1    nb  0.751602           0.500000  1.000000   0.751602  0.858188   \n",
       "2   knn  0.750718           0.539618  0.959130   0.767349  0.852588   \n",
       "3   SVC  0.751602           0.500000  1.000000   0.751602  0.858188   \n",
       "\n",
       "  Risk Bayes (Log Loss) Brier Score       AUC  \n",
       "0              0.315292    0.100218  0.911612  \n",
       "1              0.548974    0.182323  0.797349  \n",
       "2              1.548157    0.201998  0.615868  \n",
       "3                   N/A         N/A       N/A  "
      ]
     },
     "execution_count": 11,
     "metadata": {},
     "output_type": "execute_result"
    }
   ],
   "source": [
    "metrics_results"
   ]
  },
  {
   "cell_type": "markdown",
   "metadata": {},
   "source": [
    "## Fairness Metrics"
   ]
  },
  {
   "cell_type": "code",
   "execution_count": 12,
   "metadata": {},
   "outputs": [],
   "source": [
    "def calculate_fairness_metrics_multi(df, y_train, sensitive_columns, outcome_column_name, favorable_outcome):\n",
    "    \"\"\"\n",
    "    Calcula as métricas de Statistical Parity e Disparate Impact para múltiplos atributos sensíveis.\n",
    "\n",
    "    Parâmetros:\n",
    "    df (DataFrame): O dataframe contendo os dados (features).\n",
    "    y_train (DataFrame ou Series): O dataframe ou série contendo os targets (rótulos).\n",
    "    sensitive_columns (list): Lista com o nome das colunas sensíveis (ex: ['sex', 'race', 'native_country']).\n",
    "    outcome_column_name (str): O nome que será dado à coluna de resultado binário após combinação com y_train.\n",
    "    favorable_outcome: O valor considerado como resultado favorável (ex: 1 para aprovado).\n",
    "\n",
    "    Retorna:\n",
    "    DataFrame: Um dataframe contendo as métricas de Statistical Parity e Disparate Impact para cada atributo sensível.\n",
    "    \"\"\"\n",
    "\n",
    "    df_combined = df.copy()\n",
    "    df_combined[outcome_column_name] = y_train.values  # Adiciona a coluna target ao DataFrame\n",
    "\n",
    "    results = []\n",
    "    \n",
    "    for col in sensitive_columns:\n",
    "        # Calcular a taxa de resultado favorável para cada grupo\n",
    "        group_favorable_rate = df_combined.groupby(col).apply(\n",
    "            lambda x: (x[outcome_column_name] == favorable_outcome).mean()\n",
    "        ).reset_index(name='Favorable Rate')\n",
    "\n",
    "        # Considerar o grupo protegido como aquele cujo valor é 1\n",
    "        protected_rate = group_favorable_rate.loc[group_favorable_rate[col] == 1, 'Favorable Rate'].values[0]\n",
    "        non_protected_rate = group_favorable_rate.loc[group_favorable_rate[col] == 0, 'Favorable Rate'].values[0]\n",
    "\n",
    "        # Calcular o Statistical Parity (diferença nas taxas de resultado favorável)\n",
    "        parity_diff = abs(protected_rate - non_protected_rate)\n",
    "\n",
    "        disparate_impact = protected_rate / non_protected_rate if non_protected_rate > 0 else 0\n",
    "\n",
    "        results.append({\n",
    "            'Sensitive Attribute': col,\n",
    "            'Protected Group': 1,\n",
    "            'Non-Protected Group': 0,\n",
    "            'Protected Favorable Rate': protected_rate,\n",
    "            'Non-Protected Favorable Rate': non_protected_rate,\n",
    "            'Statistical Parity': parity_diff,\n",
    "            'Disparate Impact': disparate_impact\n",
    "        })\n",
    "\n",
    "    return pd.DataFrame(results)"
   ]
  },
  {
   "cell_type": "code",
   "execution_count": 13,
   "metadata": {},
   "outputs": [
    {
     "name": "stderr",
     "output_type": "stream",
     "text": [
      "C:\\Users\\decmg\\AppData\\Local\\Temp\\ipykernel_20184\\1944194404.py:23: DeprecationWarning: DataFrameGroupBy.apply operated on the grouping columns. This behavior is deprecated, and in a future version of pandas the grouping columns will be excluded from the operation. Either pass `include_groups=False` to exclude the groupings or explicitly select the grouping columns after groupby to silence this warning.\n",
      "  group_favorable_rate = df_combined.groupby(col).apply(\n",
      "C:\\Users\\decmg\\AppData\\Local\\Temp\\ipykernel_20184\\1944194404.py:23: DeprecationWarning: DataFrameGroupBy.apply operated on the grouping columns. This behavior is deprecated, and in a future version of pandas the grouping columns will be excluded from the operation. Either pass `include_groups=False` to exclude the groupings or explicitly select the grouping columns after groupby to silence this warning.\n",
      "  group_favorable_rate = df_combined.groupby(col).apply(\n",
      "C:\\Users\\decmg\\AppData\\Local\\Temp\\ipykernel_20184\\1944194404.py:23: DeprecationWarning: DataFrameGroupBy.apply operated on the grouping columns. This behavior is deprecated, and in a future version of pandas the grouping columns will be excluded from the operation. Either pass `include_groups=False` to exclude the groupings or explicitly select the grouping columns after groupby to silence this warning.\n",
      "  group_favorable_rate = df_combined.groupby(col).apply(\n"
     ]
    },
    {
     "data": {
      "text/html": [
       "<div>\n",
       "<style scoped>\n",
       "    .dataframe tbody tr th:only-of-type {\n",
       "        vertical-align: middle;\n",
       "    }\n",
       "\n",
       "    .dataframe tbody tr th {\n",
       "        vertical-align: top;\n",
       "    }\n",
       "\n",
       "    .dataframe thead th {\n",
       "        text-align: right;\n",
       "    }\n",
       "</style>\n",
       "<table border=\"1\" class=\"dataframe\">\n",
       "  <thead>\n",
       "    <tr style=\"text-align: right;\">\n",
       "      <th></th>\n",
       "      <th>Sensitive Attribute</th>\n",
       "      <th>Protected Group</th>\n",
       "      <th>Non-Protected Group</th>\n",
       "      <th>Protected Favorable Rate</th>\n",
       "      <th>Non-Protected Favorable Rate</th>\n",
       "      <th>Statistical Parity</th>\n",
       "      <th>Disparate Impact</th>\n",
       "    </tr>\n",
       "  </thead>\n",
       "  <tbody>\n",
       "    <tr>\n",
       "      <th>0</th>\n",
       "      <td>sex</td>\n",
       "      <td>1</td>\n",
       "      <td>0</td>\n",
       "      <td>0.114186</td>\n",
       "      <td>0.313690</td>\n",
       "      <td>0.199504</td>\n",
       "      <td>0.364009</td>\n",
       "    </tr>\n",
       "    <tr>\n",
       "      <th>1</th>\n",
       "      <td>race</td>\n",
       "      <td>1</td>\n",
       "      <td>0</td>\n",
       "      <td>0.158850</td>\n",
       "      <td>0.263659</td>\n",
       "      <td>0.104809</td>\n",
       "      <td>0.602482</td>\n",
       "    </tr>\n",
       "    <tr>\n",
       "      <th>2</th>\n",
       "      <td>native_country</td>\n",
       "      <td>1</td>\n",
       "      <td>0</td>\n",
       "      <td>0.195528</td>\n",
       "      <td>0.254239</td>\n",
       "      <td>0.058710</td>\n",
       "      <td>0.769073</td>\n",
       "    </tr>\n",
       "  </tbody>\n",
       "</table>\n",
       "</div>"
      ],
      "text/plain": [
       "  Sensitive Attribute  Protected Group  Non-Protected Group  \\\n",
       "0                 sex                1                    0   \n",
       "1                race                1                    0   \n",
       "2      native_country                1                    0   \n",
       "\n",
       "   Protected Favorable Rate  Non-Protected Favorable Rate  Statistical Parity  \\\n",
       "0                  0.114186                      0.313690            0.199504   \n",
       "1                  0.158850                      0.263659            0.104809   \n",
       "2                  0.195528                      0.254239            0.058710   \n",
       "\n",
       "   Disparate Impact  \n",
       "0          0.364009  \n",
       "1          0.602482  \n",
       "2          0.769073  "
      ]
     },
     "execution_count": 13,
     "metadata": {},
     "output_type": "execute_result"
    }
   ],
   "source": [
    "result_initial = calculate_fairness_metrics_multi(\n",
    "    x_train, \n",
    "    y_train, \n",
    "    sensitive_columns=['sex', 'race', 'native_country'], \n",
    "    outcome_column_name='income', \n",
    "    favorable_outcome=0  # 0 agora é o resultado favorável (alta renda)\n",
    ")\n",
    "result_initial"
   ]
  },
  {
   "cell_type": "code",
   "execution_count": 14,
   "metadata": {},
   "outputs": [
    {
     "name": "stderr",
     "output_type": "stream",
     "text": [
      "C:\\Users\\decmg\\AppData\\Local\\Temp\\ipykernel_20184\\1944194404.py:23: DeprecationWarning: DataFrameGroupBy.apply operated on the grouping columns. This behavior is deprecated, and in a future version of pandas the grouping columns will be excluded from the operation. Either pass `include_groups=False` to exclude the groupings or explicitly select the grouping columns after groupby to silence this warning.\n",
      "  group_favorable_rate = df_combined.groupby(col).apply(\n",
      "C:\\Users\\decmg\\AppData\\Local\\Temp\\ipykernel_20184\\1944194404.py:23: DeprecationWarning: DataFrameGroupBy.apply operated on the grouping columns. This behavior is deprecated, and in a future version of pandas the grouping columns will be excluded from the operation. Either pass `include_groups=False` to exclude the groupings or explicitly select the grouping columns after groupby to silence this warning.\n",
      "  group_favorable_rate = df_combined.groupby(col).apply(\n",
      "C:\\Users\\decmg\\AppData\\Local\\Temp\\ipykernel_20184\\1944194404.py:23: DeprecationWarning: DataFrameGroupBy.apply operated on the grouping columns. This behavior is deprecated, and in a future version of pandas the grouping columns will be excluded from the operation. Either pass `include_groups=False` to exclude the groupings or explicitly select the grouping columns after groupby to silence this warning.\n",
      "  group_favorable_rate = df_combined.groupby(col).apply(\n"
     ]
    },
    {
     "data": {
      "text/html": [
       "<div>\n",
       "<style scoped>\n",
       "    .dataframe tbody tr th:only-of-type {\n",
       "        vertical-align: middle;\n",
       "    }\n",
       "\n",
       "    .dataframe tbody tr th {\n",
       "        vertical-align: top;\n",
       "    }\n",
       "\n",
       "    .dataframe thead th {\n",
       "        text-align: right;\n",
       "    }\n",
       "</style>\n",
       "<table border=\"1\" class=\"dataframe\">\n",
       "  <thead>\n",
       "    <tr style=\"text-align: right;\">\n",
       "      <th></th>\n",
       "      <th>Sensitive Attribute</th>\n",
       "      <th>Protected Group</th>\n",
       "      <th>Non-Protected Group</th>\n",
       "      <th>Protected Favorable Rate</th>\n",
       "      <th>Non-Protected Favorable Rate</th>\n",
       "      <th>Statistical Parity</th>\n",
       "      <th>Disparate Impact</th>\n",
       "    </tr>\n",
       "  </thead>\n",
       "  <tbody>\n",
       "    <tr>\n",
       "      <th>0</th>\n",
       "      <td>sex</td>\n",
       "      <td>1</td>\n",
       "      <td>0</td>\n",
       "      <td>0.039429</td>\n",
       "      <td>0.131958</td>\n",
       "      <td>0.092529</td>\n",
       "      <td>0.298799</td>\n",
       "    </tr>\n",
       "    <tr>\n",
       "      <th>1</th>\n",
       "      <td>race</td>\n",
       "      <td>1</td>\n",
       "      <td>0</td>\n",
       "      <td>0.051005</td>\n",
       "      <td>0.110366</td>\n",
       "      <td>0.059362</td>\n",
       "      <td>0.462140</td>\n",
       "    </tr>\n",
       "    <tr>\n",
       "      <th>2</th>\n",
       "      <td>native_country</td>\n",
       "      <td>1</td>\n",
       "      <td>0</td>\n",
       "      <td>0.053050</td>\n",
       "      <td>0.106316</td>\n",
       "      <td>0.053266</td>\n",
       "      <td>0.498987</td>\n",
       "    </tr>\n",
       "  </tbody>\n",
       "</table>\n",
       "</div>"
      ],
      "text/plain": [
       "  Sensitive Attribute  Protected Group  Non-Protected Group  \\\n",
       "0                 sex                1                    0   \n",
       "1                race                1                    0   \n",
       "2      native_country                1                    0   \n",
       "\n",
       "   Protected Favorable Rate  Non-Protected Favorable Rate  Statistical Parity  \\\n",
       "0                  0.039429                      0.131958            0.092529   \n",
       "1                  0.051005                      0.110366            0.059362   \n",
       "2                  0.053050                      0.106316            0.053266   \n",
       "\n",
       "   Disparate Impact  \n",
       "0          0.298799  \n",
       "1          0.462140  \n",
       "2          0.498987  "
      ]
     },
     "execution_count": 14,
     "metadata": {},
     "output_type": "execute_result"
    }
   ],
   "source": [
    "result_pos_train_rf = calculate_fairness_metrics_multi(\n",
    "    x_val, \n",
    "    pd.DataFrame(predictions['y_pred_rf'],columns=['income']), \n",
    "    sensitive_columns=['sex', 'race', 'native_country'], \n",
    "    outcome_column_name='income', \n",
    "    favorable_outcome=0  # 0 agora é o resultado favorável (alta renda)\n",
    ")\n",
    "result_pos_train_rf"
   ]
  },
  {
   "cell_type": "code",
   "execution_count": 15,
   "metadata": {},
   "outputs": [
    {
     "name": "stderr",
     "output_type": "stream",
     "text": [
      "C:\\Users\\decmg\\AppData\\Local\\Temp\\ipykernel_20184\\1944194404.py:23: DeprecationWarning: DataFrameGroupBy.apply operated on the grouping columns. This behavior is deprecated, and in a future version of pandas the grouping columns will be excluded from the operation. Either pass `include_groups=False` to exclude the groupings or explicitly select the grouping columns after groupby to silence this warning.\n",
      "  group_favorable_rate = df_combined.groupby(col).apply(\n",
      "C:\\Users\\decmg\\AppData\\Local\\Temp\\ipykernel_20184\\1944194404.py:23: DeprecationWarning: DataFrameGroupBy.apply operated on the grouping columns. This behavior is deprecated, and in a future version of pandas the grouping columns will be excluded from the operation. Either pass `include_groups=False` to exclude the groupings or explicitly select the grouping columns after groupby to silence this warning.\n",
      "  group_favorable_rate = df_combined.groupby(col).apply(\n",
      "C:\\Users\\decmg\\AppData\\Local\\Temp\\ipykernel_20184\\1944194404.py:23: DeprecationWarning: DataFrameGroupBy.apply operated on the grouping columns. This behavior is deprecated, and in a future version of pandas the grouping columns will be excluded from the operation. Either pass `include_groups=False` to exclude the groupings or explicitly select the grouping columns after groupby to silence this warning.\n",
      "  group_favorable_rate = df_combined.groupby(col).apply(\n"
     ]
    },
    {
     "data": {
      "text/html": [
       "<div>\n",
       "<style scoped>\n",
       "    .dataframe tbody tr th:only-of-type {\n",
       "        vertical-align: middle;\n",
       "    }\n",
       "\n",
       "    .dataframe tbody tr th {\n",
       "        vertical-align: top;\n",
       "    }\n",
       "\n",
       "    .dataframe thead th {\n",
       "        text-align: right;\n",
       "    }\n",
       "</style>\n",
       "<table border=\"1\" class=\"dataframe\">\n",
       "  <thead>\n",
       "    <tr style=\"text-align: right;\">\n",
       "      <th></th>\n",
       "      <th>Sensitive Attribute</th>\n",
       "      <th>Protected Group</th>\n",
       "      <th>Non-Protected Group</th>\n",
       "      <th>Protected Favorable Rate</th>\n",
       "      <th>Non-Protected Favorable Rate</th>\n",
       "      <th>Statistical Parity</th>\n",
       "      <th>Disparate Impact</th>\n",
       "    </tr>\n",
       "  </thead>\n",
       "  <tbody>\n",
       "    <tr>\n",
       "      <th>0</th>\n",
       "      <td>sex</td>\n",
       "      <td>1</td>\n",
       "      <td>0</td>\n",
       "      <td>0.0</td>\n",
       "      <td>0.0</td>\n",
       "      <td>0.0</td>\n",
       "      <td>0</td>\n",
       "    </tr>\n",
       "    <tr>\n",
       "      <th>1</th>\n",
       "      <td>race</td>\n",
       "      <td>1</td>\n",
       "      <td>0</td>\n",
       "      <td>0.0</td>\n",
       "      <td>0.0</td>\n",
       "      <td>0.0</td>\n",
       "      <td>0</td>\n",
       "    </tr>\n",
       "    <tr>\n",
       "      <th>2</th>\n",
       "      <td>native_country</td>\n",
       "      <td>1</td>\n",
       "      <td>0</td>\n",
       "      <td>0.0</td>\n",
       "      <td>0.0</td>\n",
       "      <td>0.0</td>\n",
       "      <td>0</td>\n",
       "    </tr>\n",
       "  </tbody>\n",
       "</table>\n",
       "</div>"
      ],
      "text/plain": [
       "  Sensitive Attribute  Protected Group  Non-Protected Group  \\\n",
       "0                 sex                1                    0   \n",
       "1                race                1                    0   \n",
       "2      native_country                1                    0   \n",
       "\n",
       "   Protected Favorable Rate  Non-Protected Favorable Rate  Statistical Parity  \\\n",
       "0                       0.0                           0.0                 0.0   \n",
       "1                       0.0                           0.0                 0.0   \n",
       "2                       0.0                           0.0                 0.0   \n",
       "\n",
       "   Disparate Impact  \n",
       "0                 0  \n",
       "1                 0  \n",
       "2                 0  "
      ]
     },
     "execution_count": 15,
     "metadata": {},
     "output_type": "execute_result"
    }
   ],
   "source": [
    "result_pos_train_nb = calculate_fairness_metrics_multi(\n",
    "    x_val, \n",
    "    pd.DataFrame(predictions['y_pred_nb'],columns=['income']), \n",
    "    sensitive_columns=['sex', 'race', 'native_country'], \n",
    "    outcome_column_name='income', \n",
    "    favorable_outcome=0  # 0 agora é o resultado favorável (alta renda)\n",
    ")\n",
    "result_pos_train_nb"
   ]
  },
  {
   "cell_type": "code",
   "execution_count": 18,
   "metadata": {},
   "outputs": [
    {
     "data": {
      "text/plain": [
       "income\n",
       "1         4525\n",
       "Name: count, dtype: int64"
      ]
     },
     "execution_count": 18,
     "metadata": {},
     "output_type": "execute_result"
    }
   ],
   "source": [
    "pd.DataFrame(predictions['y_pred_nb'],columns=['income']).value_counts()"
   ]
  },
  {
   "cell_type": "code",
   "execution_count": null,
   "metadata": {},
   "outputs": [],
   "source": []
  },
  {
   "cell_type": "code",
   "execution_count": 19,
   "metadata": {},
   "outputs": [
    {
     "name": "stderr",
     "output_type": "stream",
     "text": [
      "C:\\Users\\decmg\\AppData\\Local\\Temp\\ipykernel_24052\\1944194404.py:23: DeprecationWarning: DataFrameGroupBy.apply operated on the grouping columns. This behavior is deprecated, and in a future version of pandas the grouping columns will be excluded from the operation. Either pass `include_groups=False` to exclude the groupings or explicitly select the grouping columns after groupby to silence this warning.\n",
      "  group_favorable_rate = df_combined.groupby(col).apply(\n",
      "C:\\Users\\decmg\\AppData\\Local\\Temp\\ipykernel_24052\\1944194404.py:23: DeprecationWarning: DataFrameGroupBy.apply operated on the grouping columns. This behavior is deprecated, and in a future version of pandas the grouping columns will be excluded from the operation. Either pass `include_groups=False` to exclude the groupings or explicitly select the grouping columns after groupby to silence this warning.\n",
      "  group_favorable_rate = df_combined.groupby(col).apply(\n",
      "C:\\Users\\decmg\\AppData\\Local\\Temp\\ipykernel_24052\\1944194404.py:23: DeprecationWarning: DataFrameGroupBy.apply operated on the grouping columns. This behavior is deprecated, and in a future version of pandas the grouping columns will be excluded from the operation. Either pass `include_groups=False` to exclude the groupings or explicitly select the grouping columns after groupby to silence this warning.\n",
      "  group_favorable_rate = df_combined.groupby(col).apply(\n"
     ]
    },
    {
     "data": {
      "text/html": [
       "<div>\n",
       "<style scoped>\n",
       "    .dataframe tbody tr th:only-of-type {\n",
       "        vertical-align: middle;\n",
       "    }\n",
       "\n",
       "    .dataframe tbody tr th {\n",
       "        vertical-align: top;\n",
       "    }\n",
       "\n",
       "    .dataframe thead th {\n",
       "        text-align: right;\n",
       "    }\n",
       "</style>\n",
       "<table border=\"1\" class=\"dataframe\">\n",
       "  <thead>\n",
       "    <tr style=\"text-align: right;\">\n",
       "      <th></th>\n",
       "      <th>Sensitive Attribute</th>\n",
       "      <th>Protected Group</th>\n",
       "      <th>Non-Protected Group</th>\n",
       "      <th>Protected Favorable Rate</th>\n",
       "      <th>Non-Protected Favorable Rate</th>\n",
       "      <th>Statistical Parity</th>\n",
       "      <th>Disparate Impact</th>\n",
       "    </tr>\n",
       "  </thead>\n",
       "  <tbody>\n",
       "    <tr>\n",
       "      <th>0</th>\n",
       "      <td>sex</td>\n",
       "      <td>1</td>\n",
       "      <td>0</td>\n",
       "      <td>0.025153</td>\n",
       "      <td>0.077603</td>\n",
       "      <td>0.052450</td>\n",
       "      <td>0.324123</td>\n",
       "    </tr>\n",
       "    <tr>\n",
       "      <th>1</th>\n",
       "      <td>race</td>\n",
       "      <td>1</td>\n",
       "      <td>0</td>\n",
       "      <td>0.030912</td>\n",
       "      <td>0.065498</td>\n",
       "      <td>0.034586</td>\n",
       "      <td>0.471954</td>\n",
       "    </tr>\n",
       "    <tr>\n",
       "      <th>2</th>\n",
       "      <td>native_country</td>\n",
       "      <td>1</td>\n",
       "      <td>0</td>\n",
       "      <td>0.034483</td>\n",
       "      <td>0.062922</td>\n",
       "      <td>0.028439</td>\n",
       "      <td>0.548025</td>\n",
       "    </tr>\n",
       "  </tbody>\n",
       "</table>\n",
       "</div>"
      ],
      "text/plain": [
       "  Sensitive Attribute  Protected Group  Non-Protected Group  \\\n",
       "0                 sex                1                    0   \n",
       "1                race                1                    0   \n",
       "2      native_country                1                    0   \n",
       "\n",
       "   Protected Favorable Rate  Non-Protected Favorable Rate  Statistical Parity  \\\n",
       "0                  0.025153                      0.077603            0.052450   \n",
       "1                  0.030912                      0.065498            0.034586   \n",
       "2                  0.034483                      0.062922            0.028439   \n",
       "\n",
       "   Disparate Impact  \n",
       "0          0.324123  \n",
       "1          0.471954  \n",
       "2          0.548025  "
      ]
     },
     "execution_count": 19,
     "metadata": {},
     "output_type": "execute_result"
    }
   ],
   "source": [
    "result_pos_train_knn = calculate_fairness_metrics_multi(\n",
    "    x_val, \n",
    "    pd.DataFrame(predictions['y_pred_knn'],columns=['income']), \n",
    "    sensitive_columns=['sex', 'race', 'native_country'], \n",
    "    outcome_column_name='income', \n",
    "    favorable_outcome=0  # 0 agora é o resultado favorável (alta renda)\n",
    ")\n",
    "result_pos_train_knn"
   ]
  },
  {
   "cell_type": "code",
   "execution_count": 20,
   "metadata": {},
   "outputs": [
    {
     "name": "stderr",
     "output_type": "stream",
     "text": [
      "C:\\Users\\decmg\\AppData\\Local\\Temp\\ipykernel_24052\\1944194404.py:23: DeprecationWarning: DataFrameGroupBy.apply operated on the grouping columns. This behavior is deprecated, and in a future version of pandas the grouping columns will be excluded from the operation. Either pass `include_groups=False` to exclude the groupings or explicitly select the grouping columns after groupby to silence this warning.\n",
      "  group_favorable_rate = df_combined.groupby(col).apply(\n",
      "C:\\Users\\decmg\\AppData\\Local\\Temp\\ipykernel_24052\\1944194404.py:23: DeprecationWarning: DataFrameGroupBy.apply operated on the grouping columns. This behavior is deprecated, and in a future version of pandas the grouping columns will be excluded from the operation. Either pass `include_groups=False` to exclude the groupings or explicitly select the grouping columns after groupby to silence this warning.\n",
      "  group_favorable_rate = df_combined.groupby(col).apply(\n",
      "C:\\Users\\decmg\\AppData\\Local\\Temp\\ipykernel_24052\\1944194404.py:23: DeprecationWarning: DataFrameGroupBy.apply operated on the grouping columns. This behavior is deprecated, and in a future version of pandas the grouping columns will be excluded from the operation. Either pass `include_groups=False` to exclude the groupings or explicitly select the grouping columns after groupby to silence this warning.\n",
      "  group_favorable_rate = df_combined.groupby(col).apply(\n"
     ]
    },
    {
     "data": {
      "text/html": [
       "<div>\n",
       "<style scoped>\n",
       "    .dataframe tbody tr th:only-of-type {\n",
       "        vertical-align: middle;\n",
       "    }\n",
       "\n",
       "    .dataframe tbody tr th {\n",
       "        vertical-align: top;\n",
       "    }\n",
       "\n",
       "    .dataframe thead th {\n",
       "        text-align: right;\n",
       "    }\n",
       "</style>\n",
       "<table border=\"1\" class=\"dataframe\">\n",
       "  <thead>\n",
       "    <tr style=\"text-align: right;\">\n",
       "      <th></th>\n",
       "      <th>Sensitive Attribute</th>\n",
       "      <th>Protected Group</th>\n",
       "      <th>Non-Protected Group</th>\n",
       "      <th>Protected Favorable Rate</th>\n",
       "      <th>Non-Protected Favorable Rate</th>\n",
       "      <th>Statistical Parity</th>\n",
       "      <th>Disparate Impact</th>\n",
       "    </tr>\n",
       "  </thead>\n",
       "  <tbody>\n",
       "    <tr>\n",
       "      <th>0</th>\n",
       "      <td>sex</td>\n",
       "      <td>1</td>\n",
       "      <td>0</td>\n",
       "      <td>1.0</td>\n",
       "      <td>1.0</td>\n",
       "      <td>0.0</td>\n",
       "      <td>1.0</td>\n",
       "    </tr>\n",
       "    <tr>\n",
       "      <th>1</th>\n",
       "      <td>race</td>\n",
       "      <td>1</td>\n",
       "      <td>0</td>\n",
       "      <td>1.0</td>\n",
       "      <td>1.0</td>\n",
       "      <td>0.0</td>\n",
       "      <td>1.0</td>\n",
       "    </tr>\n",
       "    <tr>\n",
       "      <th>2</th>\n",
       "      <td>native_country</td>\n",
       "      <td>1</td>\n",
       "      <td>0</td>\n",
       "      <td>1.0</td>\n",
       "      <td>1.0</td>\n",
       "      <td>0.0</td>\n",
       "      <td>1.0</td>\n",
       "    </tr>\n",
       "  </tbody>\n",
       "</table>\n",
       "</div>"
      ],
      "text/plain": [
       "  Sensitive Attribute  Protected Group  Non-Protected Group  \\\n",
       "0                 sex                1                    0   \n",
       "1                race                1                    0   \n",
       "2      native_country                1                    0   \n",
       "\n",
       "   Protected Favorable Rate  Non-Protected Favorable Rate  Statistical Parity  \\\n",
       "0                       1.0                           1.0                 0.0   \n",
       "1                       1.0                           1.0                 0.0   \n",
       "2                       1.0                           1.0                 0.0   \n",
       "\n",
       "   Disparate Impact  \n",
       "0               1.0  \n",
       "1               1.0  \n",
       "2               1.0  "
      ]
     },
     "execution_count": 20,
     "metadata": {},
     "output_type": "execute_result"
    }
   ],
   "source": [
    "result_pos_train_svc = calculate_fairness_metrics_multi(\n",
    "    x_val, \n",
    "    pd.DataFrame(predictions['y_pred_SVC'],columns=['income']), \n",
    "    sensitive_columns=['sex', 'race', 'native_country'], \n",
    "    outcome_column_name='income', \n",
    "    favorable_outcome=0  # 0 agora é o resultado favorável (alta renda)\n",
    ")\n",
    "result_pos_train_svc"
   ]
  },
  {
   "cell_type": "markdown",
   "metadata": {},
   "source": [
    "## Tentativas de Visualização"
   ]
  },
  {
   "cell_type": "code",
   "execution_count": 41,
   "metadata": {},
   "outputs": [
    {
     "data": {
      "image/png": "[encoded data removed]",
      "text/plain": [
       "<Figure size 1000x600 with 2 Axes>"
      ]
     },
     "metadata": {},
     "output_type": "display_data"
    }
   ],
   "source": [
    "fig, ax1 = plt.subplots(figsize=(10, 6))\n",
    "\n",
    "bar_width = 0.35\n",
    "index = np.arange(len(models))\n",
    "\n",
    "# Gráfico de AUC sem hachuras nas barras\n",
    "bar1 = ax1.bar(index, auc_scores, bar_width, label='AUC', color='lightblue', edgecolor='black')\n",
    "\n",
    "# Criando segundo eixo para o Brier Score sem hachuras\n",
    "ax2 = ax1.twinx()\n",
    "bar2 = ax2.bar(index + bar_width, brier_scores, bar_width, label='Brier Score', color='lightcoral', edgecolor='black')\n",
    "\n",
    "# Adicionando labels e título\n",
    "ax1.set_xlabel('Model')\n",
    "ax1.set_ylabel('AUC', color='blue')\n",
    "ax2.set_ylabel('Brier Score', color='red')\n",
    "plt.title('Comparação de AUC e Brier Score entre Modelos')\n",
    "\n",
    "# Configurando os ticks\n",
    "ax1.set_xticks(index + bar_width / 2)\n",
    "ax1.set_xticklabels(models)\n",
    "\n",
    "# Adicionando os valores em cima das barras\n",
    "for i, v in enumerate(auc_scores):\n",
    "    ax1.text(i - 0.05, v - 0.03, f'{v:.2f}', color='blue', fontweight='bold')\n",
    "\n",
    "for i, v in enumerate(brier_scores):\n",
    "    if not np.isnan(v):\n",
    "        ax2.text(i + bar_width - 0.05, v - 0.01, f'{v:.2f}', color='red', fontweight='bold')\n",
    "\n",
    "# Legendas ajustadas\n",
    "ax2.legend(loc='upper right')\n",
    "ax1.legend(loc='upper right', bbox_to_anchor=(1, .93))\n",
    "\n",
    "\n",
    "plt.savefig('plots//roc_auc_and_brier_score.png')"
   ]
  },
  {
   "cell_type": "code",
   "execution_count": null,
   "metadata": {},
   "outputs": [],
   "source": []
  },
  {
   "cell_type": "code",
   "execution_count": null,
   "metadata": {},
   "outputs": [],
   "source": []
  },
  {
   "cell_type": "code",
   "execution_count": null,
   "metadata": {},
   "outputs": [],
   "source": []
  },
  {
   "cell_type": "code",
   "execution_count": null,
   "metadata": {},
   "outputs": [],
   "source": []
  },
  {
   "cell_type": "code",
   "execution_count": 1,
   "metadata": {},
   "outputs": [
    {
     "data": {
      "image/png": "[encoded data removed]",
      "text/plain": [
       "<Figure size 1000x600 with 1 Axes>"
      ]
     },
     "metadata": {},
     "output_type": "display_data"
    }
   ],
   "source": [
    "import matplotlib.pyplot as plt\n",
    "\n",
    "# Exemplo de dados hipotéticos\n",
    "models = ['Random Forest', 'Naive Bayes', 'KNN', 'SVC']\n",
    "auc_scores = [0.91, 0.79, 0.61, 0.75]\n",
    "spd_scores = [0.0915, 0.0, 0.0524, 0.0]\n",
    "di_scores = [0.3047, 0.0, 0.3241, 0.0]\n",
    "\n",
    "# Scatter plot AUC vs SPD\n",
    "plt.figure(figsize=(10,6))\n",
    "plt.scatter(auc_scores, spd_scores, color='blue', label='SPD')\n",
    "plt.scatter(auc_scores, di_scores, color='green', label='DI')\n",
    "for i, txt in enumerate(models):\n",
    "    plt.annotate(txt, (auc_scores[i], spd_scores[i]), xytext=(5,-5), textcoords='offset points')\n",
    "plt.xlabel('AUC')\n",
    "plt.ylabel('SPD / DI')\n",
    "plt.title('Performance (AUC) vs Fairness (SPD / DI)')\n",
    "plt.legend()\n",
    "plt.show()"
   ]
  },
  {
   "cell_type": "code",
   "execution_count": 2,
   "metadata": {},
   "outputs": [
    {
     "data": {
      "image/png": "[encoded data removed]",
      "text/plain": [
       "<Figure size 800x600 with 2 Axes>"
      ]
     },
     "metadata": {},
     "output_type": "display_data"
    }
   ],
   "source": [
    "import seaborn as sns\n",
    "import pandas as pd\n",
    "import matplotlib.pyplot as plt\n",
    "\n",
    "# Dados hipotéticos\n",
    "data = {\n",
    "    'Model': ['Random Forest', 'Naive Bayes', 'KNN', 'SVC'],\n",
    "    'AUC': [0.91, 0.79, 0.61, 0.75],\n",
    "    'SPD': [0.0915, 0.0, 0.0524, 0.0],\n",
    "    'DI': [0.3047, 0.0, 0.3241, 0.0]\n",
    "}\n",
    "\n",
    "df = pd.DataFrame(data)\n",
    "df.set_index('Model', inplace=True)\n",
    "\n",
    "plt.figure(figsize=(8,6))\n",
    "sns.heatmap(df, annot=True, cmap='coolwarm', cbar=True)\n",
    "plt.title('Heatmap de Performance (AUC) e Fairness (SPD / DI)')\n",
    "plt.show()\n"
   ]
  },
  {
   "cell_type": "code",
   "execution_count": 4,
   "metadata": {},
   "outputs": [
    {
     "data": {
      "image/png": "[encoded data removed]",
      "text/plain": [
       "<Figure size 1000x600 with 1 Axes>"
      ]
     },
     "metadata": {},
     "output_type": "display_data"
    }
   ],
   "source": [
    "# Inverter o gráfico para que os modelos estejam no eixo Y e os valores no eixo X\n",
    "\n",
    "plt.figure(figsize=(10, 6))\n",
    "\n",
    "# Plotando AUC com uma linha suave\n",
    "plt.plot(auc_scores, models, label='AUC', marker='o', color='lightcoral', linestyle='-', linewidth=2, markersize=8)\n",
    "\n",
    "# Plotando SPD com uma linha suave\n",
    "plt.plot(spd_scores, models, label='SPD', marker='o', color='skyblue', linestyle='-', linewidth=2, markersize=8)\n",
    "\n",
    "# Plotando DI com uma linha suave\n",
    "plt.plot(di_scores, models, label='DI', marker='o', color='palegreen', linestyle='-', linewidth=2, markersize=8)\n",
    "\n",
    "# Personalizando o gráfico\n",
    "plt.title('Comparação de Performance (AUC) e Fairness (SPD / DI)', fontsize=14)\n",
    "plt.ylabel('Modelos', fontsize=12)\n",
    "plt.xlabel('Valores', fontsize=12)\n",
    "plt.legend()\n",
    "plt.grid(True, linestyle='--', alpha=0.7)\n",
    "\n",
    "# Usando tons pastéis para o fundo\n",
    "plt.gca().set_facecolor('whitesmoke')\n",
    "\n",
    "# Exibir o gráfico\n",
    "plt.show()\n"
   ]
  },
  {
   "cell_type": "code",
   "execution_count": null,
   "metadata": {},
   "outputs": [],
   "source": []
  },
  {
   "cell_type": "code",
   "execution_count": null,
   "metadata": {},
   "outputs": [],
   "source": []
  }
 ],
 "metadata": {
  "kernelspec": {
   "display_name": "torchgpu",
   "language": "python",
   "name": "python3"
  },
  "language_info": {
   "codemirror_mode": {
    "name": "ipython",
    "version": 3
   },
   "file_extension": ".py",
   "mimetype": "text/x-python",
   "name": "python",
   "nbconvert_exporter": "python",
   "pygments_lexer": "ipython3",
   "version": "3.12.4"
  }
 },
 "nbformat": 4,
 "nbformat_minor": 2
}
